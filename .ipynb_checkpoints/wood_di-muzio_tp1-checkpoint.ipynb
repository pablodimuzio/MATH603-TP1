{
 "cells": [
  {
   "cell_type": "code",
   "execution_count": 1,
   "id": "b3ac93a6-db79-4296-b0e5-f0ccd936e2e5",
   "metadata": {},
   "outputs": [],
   "source": [
    "%display latex"
   ]
  },
  {
   "cell_type": "markdown",
   "id": "994e4bfa-a997-408a-a279-ace4f6289d89",
   "metadata": {},
   "source": [
    "# Traveaux pratiques de Math603\n",
    "Archie WOOD, Pablo DI MUZIO"
   ]
  },
  {
   "cell_type": "markdown",
   "id": "040fa7ea-7192-4275-9853-4d72989a01fb",
   "metadata": {},
   "source": [
    "Pour résoudre les équations, on commence par fixer les variables et les fonctions que l'on va utiliser dans la suite du tp."
   ]
  },
  {
   "cell_type": "code",
   "execution_count": 98,
   "id": "fcb83bf5-606c-42c6-af95-3f47d7159001",
   "metadata": {},
   "outputs": [],
   "source": [
    "t=var('t')\n",
    "y=function('y')(t)\n",
    "dy=diff(y,t)"
   ]
  },
  {
   "cell_type": "code",
   "execution_count": 99,
   "id": "1ebf4b4d-db13-4b1b-9622-c5f41747d3a7",
   "metadata": {},
   "outputs": [],
   "source": [
    "def make_fun(C,expr): \n",
    "    s(t) = expr.substitute(expr.variables()[0] == C)\n",
    "    return s\n",
    "\n",
    "def c_plot(expr,C,interval,cl='blue'):\n",
    "    s = make_fun(C,expr)\n",
    "    return plot(s,interval,color=cl,legend_label=r'$C = {0}$'.format(C))"
   ]
  },
  {
   "cell_type": "markdown",
   "id": "36d62a93-445b-411e-986a-877f7fcd730d",
   "metadata": {},
   "source": [
    "Désormais, on peut utiliser les variables `t,y,dy` pour désigner la variable, la fonction et sa dérivée"
   ]
  },
  {
   "cell_type": "markdown",
   "id": "76b8794d-f1a2-4266-92a7-f8d9346962a3",
   "metadata": {},
   "source": [
    "## Exercice 1"
   ]
  },
  {
   "cell_type": "markdown",
   "id": "1717363b-b393-487f-b867-3679c0fa9bf4",
   "metadata": {},
   "source": [
    "Les solutions de $y'-4y=3$ sont de la forme"
   ]
  },
  {
   "cell_type": "code",
   "execution_count": 100,
   "id": "486796db-ca04-4d7b-b162-f661feb0fd41",
   "metadata": {},
   "outputs": [
    {
     "data": {
      "text/html": [
       "<html>\\(\\displaystyle \\frac{1}{4} \\, {\\left(4 \\, C - 3 \\, e^{\\left(-4 \\, t\\right)}\\right)} e^{\\left(4 \\, t\\right)}\\)</html>"
      ],
      "text/latex": [
       "$\\displaystyle \\frac{1}{4} \\, {\\left(4 \\, C - 3 \\, e^{\\left(-4 \\, t\\right)}\\right)} e^{\\left(4 \\, t\\right)}$"
      ],
      "text/plain": [
       "1/4*(4*_C - 3*e^(-4*t))*e^(4*t)"
      ]
     },
     "execution_count": 100,
     "metadata": {},
     "output_type": "execute_result"
    }
   ],
   "source": [
    "desolve(dy-4*y==3,y)"
   ]
  },
  {
   "cell_type": "markdown",
   "id": "35633ca8-e8e0-4a0f-9cb1-d0294838884a",
   "metadata": {},
   "source": [
    "Les solutions de $y'+y=\\sin(t)$ sont de la forme"
   ]
  },
  {
   "cell_type": "code",
   "execution_count": 101,
   "id": "ed321622-d4e5-47c2-9d8b-1f4ae0806c3d",
   "metadata": {},
   "outputs": [
    {
     "data": {
      "text/html": [
       "<html>\\(\\displaystyle -\\frac{1}{2} \\, {\\left({\\left(\\cos\\left(t\\right) - \\sin\\left(t\\right)\\right)} e^{t} - 2 \\, C\\right)} e^{\\left(-t\\right)}\\)</html>"
      ],
      "text/latex": [
       "$\\displaystyle -\\frac{1}{2} \\, {\\left({\\left(\\cos\\left(t\\right) - \\sin\\left(t\\right)\\right)} e^{t} - 2 \\, C\\right)} e^{\\left(-t\\right)}$"
      ],
      "text/plain": [
       "-1/2*((cos(t) - sin(t))*e^t - 2*_C)*e^(-t)"
      ]
     },
     "execution_count": 101,
     "metadata": {},
     "output_type": "execute_result"
    }
   ],
   "source": [
    "desolve(dy+y==sin(t),y)"
   ]
  },
  {
   "cell_type": "markdown",
   "id": "26bc60a7-6062-460c-b307-d54151db8e09",
   "metadata": {},
   "source": [
    "Les solutions de $y'+y=(t^2+2x+2)e^t$ sont de la forme"
   ]
  },
  {
   "cell_type": "code",
   "execution_count": 102,
   "id": "89566163-cdce-4dd5-be09-868304d5e962",
   "metadata": {},
   "outputs": [
    {
     "data": {
      "text/html": [
       "<html>\\(\\displaystyle \\frac{1}{4} \\, {\\left({\\left(2 \\, t^{2} - 2 \\, t + 1\\right)} e^{\\left(2 \\, t\\right)} + 2 \\, {\\left(2 \\, t - 1\\right)} e^{\\left(2 \\, t\\right)} + 4 \\, C + 4 \\, e^{\\left(2 \\, t\\right)}\\right)} e^{\\left(-t\\right)}\\)</html>"
      ],
      "text/latex": [
       "$\\displaystyle \\frac{1}{4} \\, {\\left({\\left(2 \\, t^{2} - 2 \\, t + 1\\right)} e^{\\left(2 \\, t\\right)} + 2 \\, {\\left(2 \\, t - 1\\right)} e^{\\left(2 \\, t\\right)} + 4 \\, C + 4 \\, e^{\\left(2 \\, t\\right)}\\right)} e^{\\left(-t\\right)}$"
      ],
      "text/plain": [
       "1/4*((2*t^2 - 2*t + 1)*e^(2*t) + 2*(2*t - 1)*e^(2*t) + 4*_C + 4*e^(2*t))*e^(-t)"
      ]
     },
     "execution_count": 102,
     "metadata": {},
     "output_type": "execute_result"
    }
   ],
   "source": [
    "desolve(dy+y==(t**2+2*t+2)*exp(t), y)"
   ]
  },
  {
   "cell_type": "markdown",
   "id": "67fe3139-3bef-4617-bd38-998810739f6f",
   "metadata": {},
   "source": [
    "Les solutions de $y'+y=\\cos(t)e^{-t}$ sont de la forme"
   ]
  },
  {
   "cell_type": "code",
   "execution_count": 103,
   "id": "98176d77-3bfb-45be-bd77-3fcd54ebc585",
   "metadata": {},
   "outputs": [
    {
     "data": {
      "text/html": [
       "<html>\\(\\displaystyle {\\left(C + \\sin\\left(t\\right)\\right)} e^{\\left(-t\\right)}\\)</html>"
      ],
      "text/latex": [
       "$\\displaystyle {\\left(C + \\sin\\left(t\\right)\\right)} e^{\\left(-t\\right)}$"
      ],
      "text/plain": [
       "(_C + sin(t))*e^(-t)"
      ]
     },
     "execution_count": 103,
     "metadata": {},
     "output_type": "execute_result"
    }
   ],
   "source": [
    "desolve(dy+y==cos(t)*exp(-t), y)"
   ]
  },
  {
   "cell_type": "markdown",
   "id": "b53832b2-d8bc-4e80-b135-0086d5fcff6f",
   "metadata": {},
   "source": [
    "Les solutions de $y'+y=\\dfrac{1}{1+e^t}$ sont de la forme"
   ]
  },
  {
   "cell_type": "code",
   "execution_count": 104,
   "id": "2c8b7953-0ea8-451a-8608-670eb3c5d9db",
   "metadata": {},
   "outputs": [
    {
     "data": {
      "text/html": [
       "<html>\\(\\displaystyle {\\left(C + \\log\\left(e^{t} + 1\\right)\\right)} e^{\\left(-t\\right)}\\)</html>"
      ],
      "text/latex": [
       "$\\displaystyle {\\left(C + \\log\\left(e^{t} + 1\\right)\\right)} e^{\\left(-t\\right)}$"
      ],
      "text/plain": [
       "(_C + log(e^t + 1))*e^(-t)"
      ]
     },
     "execution_count": 104,
     "metadata": {},
     "output_type": "execute_result"
    }
   ],
   "source": [
    "desolve(dy+y==1/(1+exp(t)),y)"
   ]
  },
  {
   "cell_type": "markdown",
   "id": "8e7878aa-6446-43e3-ae4a-6134a3aaad02",
   "metadata": {},
   "source": [
    "## Exercice 2"
   ]
  },
  {
   "cell_type": "markdown",
   "id": "3513593b-04a3-477d-a206-eaefd142d56b",
   "metadata": {},
   "source": [
    "1. Les solutions de $(1+t^2)y'+2ty=e^t+t$ sont de la forme"
   ]
  },
  {
   "cell_type": "code",
   "execution_count": 105,
   "id": "f3f1bde1-e816-467e-b058-88c0aae9de64",
   "metadata": {},
   "outputs": [
    {
     "data": {
      "text/html": [
       "<html>\\(\\displaystyle \\frac{t^{2} + 2 \\, C + 2 \\, e^{t}}{2 \\, {\\left(t^{2} + 1\\right)}}\\)</html>"
      ],
      "text/latex": [
       "$\\displaystyle \\frac{t^{2} + 2 \\, C + 2 \\, e^{t}}{2 \\, {\\left(t^{2} + 1\\right)}}$"
      ],
      "text/plain": [
       "1/2*(t^2 + 2*_C + 2*e^t)/(t^2 + 1)"
      ]
     },
     "execution_count": 105,
     "metadata": {},
     "output_type": "execute_result"
    }
   ],
   "source": [
    "desolve( (1+t**2)*dy + 2*t*y == exp(t) + t, y)"
   ]
  },
  {
   "cell_type": "markdown",
   "id": "16edae52-e123-407b-b17e-2797b43024bd",
   "metadata": {},
   "source": [
    "3. Les solutions de $y'-\\dfrac{2}{t+1}y=(t+1)^2$ sont de la forme"
   ]
  },
  {
   "cell_type": "code",
   "execution_count": 106,
   "id": "ec56e7a7-7bbe-4e6f-86b8-732a26eab45c",
   "metadata": {},
   "outputs": [
    {
     "data": {
      "text/html": [
       "<html>\\(\\displaystyle {\\left(C + t\\right)} {\\left(t + 1\\right)}^{2}\\)</html>"
      ],
      "text/latex": [
       "$\\displaystyle {\\left(C + t\\right)} {\\left(t + 1\\right)}^{2}$"
      ],
      "text/plain": [
       "(_C + t)*(t + 1)^2"
      ]
     },
     "execution_count": 106,
     "metadata": {},
     "output_type": "execute_result"
    }
   ],
   "source": [
    "desolve( dy - 2/(t+1)*y == (t+1)^2, y)"
   ]
  },
  {
   "cell_type": "markdown",
   "id": "0a176f65-4f1f-472e-9bb0-c28e6566e5a7",
   "metadata": {},
   "source": [
    "4. Les solutions de $t^2y'+(1-t)y=1$ sont de la forme"
   ]
  },
  {
   "cell_type": "code",
   "execution_count": 107,
   "id": "8b1c3be3-ac7f-42bb-b9a9-4a8a906415c7",
   "metadata": {},
   "outputs": [
    {
     "data": {
      "text/html": [
       "<html>\\(\\displaystyle {\\left(C + \\Gamma\\left(2, \\frac{1}{t}\\right)\\right)} t e^{\\frac{1}{t}}\\)</html>"
      ],
      "text/latex": [
       "$\\displaystyle {\\left(C + \\Gamma\\left(2, \\frac{1}{t}\\right)\\right)} t e^{\\frac{1}{t}}$"
      ],
      "text/plain": [
       "(_C + gamma(2, 1/t))*t*e^(1/t)"
      ]
     },
     "execution_count": 107,
     "metadata": {},
     "output_type": "execute_result"
    }
   ],
   "source": [
    "desolve( t**2*dy + (1-t)*y == 1, y)"
   ]
  },
  {
   "cell_type": "markdown",
   "id": "37982e44-9679-4921-b800-f7ac6d558d46",
   "metadata": {},
   "source": [
    "6. Les solutions de $ty'-y = \\dfrac{2t+1}{t^2+1}$ sont de la forme"
   ]
  },
  {
   "cell_type": "code",
   "execution_count": 108,
   "id": "d750da02-1ee7-47a6-ae53-58f53fe2082e",
   "metadata": {},
   "outputs": [
    {
     "data": {
      "text/html": [
       "<html>\\(\\displaystyle {\\left(C - \\frac{1}{t} - \\arctan\\left(t\\right) - \\log\\left(t^{2} + 1\\right) + 2 \\, \\log\\left(t\\right)\\right)} t\\)</html>"
      ],
      "text/latex": [
       "$\\displaystyle {\\left(C - \\frac{1}{t} - \\arctan\\left(t\\right) - \\log\\left(t^{2} + 1\\right) + 2 \\, \\log\\left(t\\right)\\right)} t$"
      ],
      "text/plain": [
       "(_C - 1/t - arctan(t) - log(t^2 + 1) + 2*log(t))*t"
      ]
     },
     "execution_count": 108,
     "metadata": {},
     "output_type": "execute_result"
    }
   ],
   "source": [
    "desolve( t*dy - y == (2*t+1)/(t^2+1), y)"
   ]
  },
  {
   "cell_type": "markdown",
   "id": "fecc6e6d-b9a7-4444-a36e-ec64482d14ba",
   "metadata": {},
   "source": [
    "Les solutions de $(t+1)y'+ y = (t+1)\\sin(t)$ sont de la forme"
   ]
  },
  {
   "cell_type": "code",
   "execution_count": 109,
   "id": "21f8ba1e-5208-4da7-8ebd-fe7ddc72215f",
   "metadata": {},
   "outputs": [
    {
     "data": {
      "text/html": [
       "<html>\\(\\displaystyle -\\frac{t \\cos\\left(t\\right) - C + \\cos\\left(t\\right) - \\sin\\left(t\\right)}{t + 1}\\)</html>"
      ],
      "text/latex": [
       "$\\displaystyle -\\frac{t \\cos\\left(t\\right) - C + \\cos\\left(t\\right) - \\sin\\left(t\\right)}{t + 1}$"
      ],
      "text/plain": [
       "-(t*cos(t) - _C + cos(t) - sin(t))/(t + 1)"
      ]
     },
     "execution_count": 109,
     "metadata": {},
     "output_type": "execute_result"
    }
   ],
   "source": [
    "desolve( (t+1)*dy+y == (t+1)*sin(t) , y)"
   ]
  },
  {
   "cell_type": "markdown",
   "id": "c40c3d3d-560f-464a-b14d-96beba2a269c",
   "metadata": {},
   "source": [
    "## Exercice 3"
   ]
  },
  {
   "cell_type": "markdown",
   "id": "103799f0-3bce-44b2-b1f0-0b7a59375c3e",
   "metadata": {},
   "source": [
    "1. Les solutions de $y'+\\dfrac{1}{2}y = \\dfrac{1}{2}(t-1)y^3$ sont de la forme"
   ]
  },
  {
   "cell_type": "code",
   "execution_count": 110,
   "id": "be09deda-0d1e-448c-8631-4dce520777fd",
   "metadata": {},
   "outputs": [
    {
     "data": {
      "text/html": [
       "<html>\\(\\displaystyle \\frac{e^{\\left(-\\frac{1}{2} \\, t\\right)}}{\\sqrt{{\\left(t + 1\\right)} e^{\\left(-t\\right)} + C - e^{\\left(-t\\right)}}}\\)</html>"
      ],
      "text/latex": [
       "$\\displaystyle \\frac{e^{\\left(-\\frac{1}{2} \\, t\\right)}}{\\sqrt{{\\left(t + 1\\right)} e^{\\left(-t\\right)} + C - e^{\\left(-t\\right)}}}$"
      ],
      "text/plain": [
       "e^(-1/2*t)/sqrt((t + 1)*e^(-t) + _C - e^(-t))"
      ]
     },
     "execution_count": 110,
     "metadata": {},
     "output_type": "execute_result"
    }
   ],
   "source": [
    "desolve( dy + 1/2*y == 1/2*(t-1)*y^3 , y)"
   ]
  },
  {
   "cell_type": "markdown",
   "id": "63b474de-60d4-438c-b0e2-a126baa7fd50",
   "metadata": {},
   "source": [
    "2. Les solutions de $ty'+y -ty^3= 0$ sont de la forme"
   ]
  },
  {
   "cell_type": "code",
   "execution_count": 111,
   "id": "71e4b16c-6512-4358-8e24-e6bac48469c4",
   "metadata": {},
   "outputs": [
    {
     "data": {
      "text/html": [
       "<html>\\(\\displaystyle \\frac{1}{\\sqrt{C + \\frac{2}{t}} t}\\)</html>"
      ],
      "text/latex": [
       "$\\displaystyle \\frac{1}{\\sqrt{C + \\frac{2}{t}} t}$"
      ],
      "text/plain": [
       "1/(sqrt(_C + 2/t)*t)"
      ]
     },
     "execution_count": 111,
     "metadata": {},
     "output_type": "execute_result"
    }
   ],
   "source": [
    "desolve( t*dy + y - t*y^3 == 0 , y)"
   ]
  },
  {
   "cell_type": "markdown",
   "id": "6525d2dc-0f72-483f-a042-091fd1d69b43",
   "metadata": {},
   "source": [
    "## Exercice 4"
   ]
  },
  {
   "cell_type": "markdown",
   "id": "9b5970dc-0c49-4821-bc5e-6e0ebafb3da4",
   "metadata": {},
   "source": [
    "1. Les solutions analytiques sous forme implicite de $t^2(y'+y^2)=ty - 1$ sont:"
   ]
  },
  {
   "cell_type": "code",
   "execution_count": 112,
   "id": "0a376b3c-5bef-49b0-84b3-b47272152e84",
   "metadata": {},
   "outputs": [
    {
     "data": {
      "text/html": [
       "<html>\\(\\displaystyle t = C e^{\\left(\\frac{1}{t y\\left(t\\right) - 1}\\right)}\\)</html>"
      ],
      "text/latex": [
       "$\\displaystyle t = C e^{\\left(\\frac{1}{t y\\left(t\\right) - 1}\\right)}$"
      ],
      "text/plain": [
       "t == _C*e^(1/(t*y(t) - 1))"
      ]
     },
     "execution_count": 112,
     "metadata": {},
     "output_type": "execute_result"
    }
   ],
   "source": [
    "eq = desolve(t^2*(dy + y^2) == t*y - 1, y)\n",
    "eq"
   ]
  },
  {
   "cell_type": "markdown",
   "id": "3f983172-151c-4519-816f-9ddf9800f4e4",
   "metadata": {},
   "source": [
    "On en déduit donc $y$ en fonction de $t$"
   ]
  },
  {
   "cell_type": "code",
   "execution_count": 113,
   "id": "0f91ed74-2184-4be3-b13b-b58fb375318b",
   "metadata": {},
   "outputs": [
    {
     "data": {
      "text/html": [
       "<html>\\(\\displaystyle y\\left(t\\right) = \\frac{\\log\\left(\\frac{t}{C}\\right) + 1}{t \\log\\left(\\frac{t}{C}\\right)}\\)</html>"
      ],
      "text/latex": [
       "$\\displaystyle y\\left(t\\right) = \\frac{\\log\\left(\\frac{t}{C}\\right) + 1}{t \\log\\left(\\frac{t}{C}\\right)}$"
      ],
      "text/plain": [
       "y(t) == (log(t/_C) + 1)/(t*log(t/_C))"
      ]
     },
     "execution_count": 113,
     "metadata": {},
     "output_type": "execute_result"
    }
   ],
   "source": [
    "solve(eq,y)[0]"
   ]
  },
  {
   "cell_type": "markdown",
   "id": "ecfb977f-0bbc-47a0-ad68-8b0430b348bd",
   "metadata": {},
   "source": [
    "2. Les solutions de $(1-t^3)y' + t^2y + y^2 - 2t = 0$ sont de la forme:"
   ]
  },
  {
   "cell_type": "code",
   "execution_count": 114,
   "id": "500a648e-a632-4726-bf94-d228c7ba9579",
   "metadata": {},
   "outputs": [
    {
     "data": {
      "text/html": [
       "<html>\\(\\displaystyle y\\left(t\\right) = \\frac{2 \\, C {\\left(t - 1\\right)} t^{5} + {\\left({\\left(t^{2} + t + 1\\right)} C + {\\left(C + 2\\right)} {\\left(t - 1\\right)}\\right)} t^{4} - 2 \\, C {\\left(t - 1\\right)} t^{2} - {\\left({\\left(3 \\, C {\\left(t - 1\\right)} - 1\\right)} {\\left(t^{2} + t + 1\\right)} - t + 1\\right)} t^{3} + {\\left(3 \\, C {\\left(t - 1\\right)} - 1\\right)} {\\left(t^{2} + t + 1\\right)} - {\\left({\\left(t^{2} + t + 1\\right)} C + {\\left(C + 2\\right)} {\\left(t - 1\\right)}\\right)} t - t + 1}{3 \\, {\\left({\\left(t^{2} + t + 1\\right)} C {\\left(t - 1\\right)} t + {\\left(t^{2} + t + 1\\right)} {\\left(t - 1\\right)}\\right)}}\\)</html>"
      ],
      "text/latex": [
       "$\\displaystyle y\\left(t\\right) = \\frac{2 \\, C {\\left(t - 1\\right)} t^{5} + {\\left({\\left(t^{2} + t + 1\\right)} C + {\\left(C + 2\\right)} {\\left(t - 1\\right)}\\right)} t^{4} - 2 \\, C {\\left(t - 1\\right)} t^{2} - {\\left({\\left(3 \\, C {\\left(t - 1\\right)} - 1\\right)} {\\left(t^{2} + t + 1\\right)} - t + 1\\right)} t^{3} + {\\left(3 \\, C {\\left(t - 1\\right)} - 1\\right)} {\\left(t^{2} + t + 1\\right)} - {\\left({\\left(t^{2} + t + 1\\right)} C + {\\left(C + 2\\right)} {\\left(t - 1\\right)}\\right)} t - t + 1}{3 \\, {\\left({\\left(t^{2} + t + 1\\right)} C {\\left(t - 1\\right)} t + {\\left(t^{2} + t + 1\\right)} {\\left(t - 1\\right)}\\right)}}$"
      ],
      "text/plain": [
       "y(t) == 1/3*(2*_C*(t - 1)*t^5 + ((t^2 + t + 1)*_C + (_C + 2)*(t - 1))*t^4 - 2*_C*(t - 1)*t^2 - ((3*_C*(t - 1) - 1)*(t^2 + t + 1) - t + 1)*t^3 + (3*_C*(t - 1) - 1)*(t^2 + t + 1) - ((t^2 + t + 1)*_C + (_C + 2)*(t - 1))*t - t + 1)/((t^2 + t + 1)*_C*(t - 1)*t + (t^2 + t + 1)*(t - 1))"
      ]
     },
     "execution_count": 114,
     "metadata": {},
     "output_type": "execute_result"
    }
   ],
   "source": [
    "sol = desolve((1-t**3)*dy + t**2*y + y**2 - 2*t == 0, y, contrib_ode=true)[0]\n",
    "sol"
   ]
  },
  {
   "cell_type": "markdown",
   "id": "bfdb7603-b7d8-434d-aa77-6fc0016d9b2f",
   "metadata": {},
   "source": [
    "Qui se simplifie en"
   ]
  },
  {
   "cell_type": "code",
   "execution_count": 115,
   "id": "9409bfbf-8be7-4b30-9e20-4b9f192fd1b0",
   "metadata": {},
   "outputs": [
    {
     "data": {
      "text/html": [
       "<html>\\(\\displaystyle y\\left(t\\right) = \\frac{t^{2} + C}{C t + 1}\\)</html>"
      ],
      "text/latex": [
       "$\\displaystyle y\\left(t\\right) = \\frac{t^{2} + C}{C t + 1}$"
      ],
      "text/plain": [
       "y(t) == (t^2 + _C)/(_C*t + 1)"
      ]
     },
     "execution_count": 115,
     "metadata": {},
     "output_type": "execute_result"
    }
   ],
   "source": [
    "sol.full_simplify()"
   ]
  },
  {
   "cell_type": "markdown",
   "id": "a481ce18-1e1b-4dc0-9dd7-9ff6bb4c74a2",
   "metadata": {},
   "source": [
    "## Exercice 5"
   ]
  },
  {
   "cell_type": "markdown",
   "id": "9bd87588-c3ec-48e4-80d5-3a557bcd5a04",
   "metadata": {},
   "source": [
    "1. Les solutions de $t^2y' = \\exp(y)$ sont retournées sous forme implicite:"
   ]
  },
  {
   "cell_type": "code",
   "execution_count": 116,
   "id": "92da12f2-e77e-4ce5-b71f-350c17e3b943",
   "metadata": {},
   "outputs": [
    {
     "data": {
      "text/html": [
       "<html>\\(\\displaystyle -e^{\\left(-y\\left(t\\right)\\right)} = C - \\frac{1}{t}\\)</html>"
      ],
      "text/latex": [
       "$\\displaystyle -e^{\\left(-y\\left(t\\right)\\right)} = C - \\frac{1}{t}$"
      ],
      "text/plain": [
       "-e^(-y(t)) == _C - 1/t"
      ]
     },
     "execution_count": 116,
     "metadata": {},
     "output_type": "execute_result"
    }
   ],
   "source": [
    "eq = desolve(t**2*dy == exp(y),y)\n",
    "eq"
   ]
  },
  {
   "cell_type": "markdown",
   "id": "cd80bf8b-7cbb-4981-91b2-ab0ed0d55f0b",
   "metadata": {},
   "source": [
    "On en déduit $y$ en fonction de $t$:"
   ]
  },
  {
   "cell_type": "code",
   "execution_count": 117,
   "id": "f9cc84a1-cf03-4571-83b6-de2ff0c58214",
   "metadata": {},
   "outputs": [
    {
     "data": {
      "text/html": [
       "<html>\\(\\displaystyle y\\left(t\\right) = \\log\\left(-\\frac{t}{C t - 1}\\right)\\)</html>"
      ],
      "text/latex": [
       "$\\displaystyle y\\left(t\\right) = \\log\\left(-\\frac{t}{C t - 1}\\right)$"
      ],
      "text/plain": [
       "y(t) == log(-t/(_C*t - 1))"
      ]
     },
     "execution_count": 117,
     "metadata": {},
     "output_type": "execute_result"
    }
   ],
   "source": [
    "sol = solve(eq,y)[0]\n",
    "sol"
   ]
  },
  {
   "cell_type": "markdown",
   "id": "43ebfd57-c595-4867-9989-7e7e051eb50f",
   "metadata": {},
   "source": [
    "2. Ici, Sage force un changement de variable $t$, que l'on utilisait dans les équations précédentes. Pour éviter la confusion, on nomme notre inconue $f$ admettant pour variable $x$.\n",
    "\n",
    "Les solutions de $f'+1 = e^{t+f}$ sont donc de la forme"
   ]
  },
  {
   "cell_type": "code",
   "execution_count": 118,
   "id": "a4f7bbaf-4a49-4544-8b2a-c4ccb99149bc",
   "metadata": {},
   "outputs": [
    {
     "data": {
      "text/html": [
       "<html>\\(\\displaystyle f\\left(x\\right) = -x + \\log\\left(t + 1\\right)\\)</html>"
      ],
      "text/latex": [
       "$\\displaystyle f\\left(x\\right) = -x + \\log\\left(t + 1\\right)$"
      ],
      "text/plain": [
       "f(x) == -x + log(t + 1)"
      ]
     },
     "execution_count": 118,
     "metadata": {},
     "output_type": "execute_result"
    }
   ],
   "source": [
    "x = var('x')\n",
    "f = function('f')(x)\n",
    "df = diff(f,x)\n",
    "\n",
    "sol = desolve(df+1 == exp(x)*exp(f), f, contrib_ode=true)[0]\n",
    "sol[1]"
   ]
  },
  {
   "cell_type": "markdown",
   "id": "bcec35e6-1bb4-4951-915d-9d271372910d",
   "metadata": {},
   "source": [
    "Où on a"
   ]
  },
  {
   "cell_type": "code",
   "execution_count": 119,
   "id": "afc2744d-7858-40b6-b4cf-0f227159ec7e",
   "metadata": {},
   "outputs": [
    {
     "data": {
      "text/html": [
       "<html>\\(\\displaystyle t = -\\frac{C - x - 1}{C - x}\\)</html>"
      ],
      "text/latex": [
       "$\\displaystyle t = -\\frac{C - x - 1}{C - x}$"
      ],
      "text/plain": [
       "t == -(_C - x - 1)/(_C - x)"
      ]
     },
     "execution_count": 119,
     "metadata": {},
     "output_type": "execute_result"
    }
   ],
   "source": [
    "solve(sol[0], t)[0].full_simplify()"
   ]
  },
  {
   "cell_type": "markdown",
   "id": "38872b5c-3e2b-4981-a7cf-e674b389f19a",
   "metadata": {},
   "source": [
    "## Exercice 6"
   ]
  },
  {
   "cell_type": "markdown",
   "id": "85a9faeb-9ffd-4042-a859-355bf36bb071",
   "metadata": {},
   "source": [
    "Encore une fois on va avoir besoin de définir des variables pour la suite de l'exercice, comme on manipule au maximum des matrices 4x4 dans le reste du TP, on en choisit 4 nouvelles."
   ]
  },
  {
   "cell_type": "code",
   "execution_count": 143,
   "id": "9c68d9aa-2b87-4488-86e1-1c6bbc5a35be",
   "metadata": {},
   "outputs": [],
   "source": [
    "x = function('x')(t)\n",
    "y = function('y')(t)\n",
    "z = function('z')(t)\n",
    "u = function('u')(t)\n",
    "\n",
    "x0, z0, y0, u0 = var('x_0, z_0, y_0, u_0')\n",
    "\n",
    "X = vector([x,y])\n",
    "Y = vector([x,y,z])\n",
    "Z = vector([x,y,z,u])\n",
    "dX = diff(X, t)\n",
    "dY = diff(Y, t)\n",
    "dZ = diff(Z, t)"
   ]
  },
  {
   "cell_type": "markdown",
   "id": "bc192811-d7de-41ad-9ce6-6440de3459b6",
   "metadata": {},
   "source": [
    "#### Exercice 1:"
   ]
  },
  {
   "cell_type": "markdown",
   "id": "12beabf7-964d-4226-9489-847aa75e1b50",
   "metadata": {},
   "source": [
    "On souhaite résoudre le système différentiel $Y'=AY$ où"
   ]
  },
  {
   "cell_type": "code",
   "execution_count": 144,
   "id": "579a5762-5d6d-4463-a9da-09a0347ed496",
   "metadata": {},
   "outputs": [
    {
     "data": {
      "text/html": [
       "<html>\\(\\displaystyle \\left(\\begin{array}{rrr}\n",
       "4 & 0 & 0 \\\\\n",
       "2 & 1 & 3 \\\\\n",
       "5 & 0 & 4\n",
       "\\end{array}\\right)\\)</html>"
      ],
      "text/latex": [
       "$\\displaystyle \\left(\\begin{array}{rrr}\n",
       "4 & 0 & 0 \\\\\n",
       "2 & 1 & 3 \\\\\n",
       "5 & 0 & 4\n",
       "\\end{array}\\right)$"
      ],
      "text/plain": [
       "[4 0 0]\n",
       "[2 1 3]\n",
       "[5 0 4]"
      ]
     },
     "execution_count": 144,
     "metadata": {},
     "output_type": "execute_result"
    }
   ],
   "source": [
    "A = Matrix([\n",
    "    [4,0,0], \n",
    "    [2,1,3], \n",
    "    [5,0,4]\n",
    "])\n",
    "A"
   ]
  },
  {
   "cell_type": "markdown",
   "id": "4763b57c-7748-47b9-95a9-fd091791f0aa",
   "metadata": {},
   "source": [
    "Ce qui revient à se demander à quelle condition le vecteur suivant est nul"
   ]
  },
  {
   "cell_type": "code",
   "execution_count": 145,
   "id": "e3bfb0d3-990f-4278-965b-1be1afc975fa",
   "metadata": {},
   "outputs": [
    {
     "data": {
      "text/html": [
       "<html>\\(\\displaystyle \\left(\\begin{array}{r}\n",
       "-4 \\, x\\left(t\\right) + \\frac{\\partial}{\\partial t}x\\left(t\\right) \\\\\n",
       "-2 \\, x\\left(t\\right) - y\\left(t\\right) - 3 \\, z\\left(t\\right) + \\frac{\\partial}{\\partial t}y\\left(t\\right) \\\\\n",
       "-5 \\, x\\left(t\\right) - 4 \\, z\\left(t\\right) + \\frac{\\partial}{\\partial t}z\\left(t\\right)\n",
       "\\end{array}\\right)\\)</html>"
      ],
      "text/latex": [
       "$\\displaystyle \\left(\\begin{array}{r}\n",
       "-4 \\, x\\left(t\\right) + \\frac{\\partial}{\\partial t}x\\left(t\\right) \\\\\n",
       "-2 \\, x\\left(t\\right) - y\\left(t\\right) - 3 \\, z\\left(t\\right) + \\frac{\\partial}{\\partial t}y\\left(t\\right) \\\\\n",
       "-5 \\, x\\left(t\\right) - 4 \\, z\\left(t\\right) + \\frac{\\partial}{\\partial t}z\\left(t\\right)\n",
       "\\end{array}\\right)$"
      ],
      "text/plain": [
       "[                -4*x(t) + diff(x(t), t)]\n",
       "[-2*x(t) - y(t) - 3*z(t) + diff(y(t), t)]\n",
       "[       -5*x(t) - 4*z(t) + diff(z(t), t)]"
      ]
     },
     "execution_count": 145,
     "metadata": {},
     "output_type": "execute_result"
    }
   ],
   "source": [
    "system = [dY[i] - (A*Y)[i] for i in range(3)]\n",
    "Matrix(system).transpose()"
   ]
  },
  {
   "cell_type": "markdown",
   "id": "5658fa1c-b52d-42d9-8950-4843f0cb4c91",
   "metadata": {},
   "source": [
    "Un système de solutions de ce problème est donc"
   ]
  },
  {
   "cell_type": "code",
   "execution_count": 146,
   "id": "3d52dc9c-73bf-4578-a3eb-c5718a8af152",
   "metadata": {},
   "outputs": [
    {
     "data": {
      "text/html": [
       "<html>\\(\\displaystyle \\left(\\begin{array}{r}\n",
       "x\\left(t\\right) = x_{0} e^{\\left(4 \\, t\\right)} \\\\\n",
       "y\\left(t\\right) = 5 \\, t x_{0} e^{\\left(4 \\, t\\right)} - {\\left(x_{0} - z_{0}\\right)} e^{\\left(4 \\, t\\right)} + {\\left(x_{0} + y_{0} - z_{0}\\right)} e^{t} \\\\\n",
       "z\\left(t\\right) = 5 \\, t x_{0} e^{\\left(4 \\, t\\right)} + z_{0} e^{\\left(4 \\, t\\right)}\n",
       "\\end{array}\\right)\\)</html>"
      ],
      "text/latex": [
       "$\\displaystyle \\left(\\begin{array}{r}\n",
       "x\\left(t\\right) = x_{0} e^{\\left(4 \\, t\\right)} \\\\\n",
       "y\\left(t\\right) = 5 \\, t x_{0} e^{\\left(4 \\, t\\right)} - {\\left(x_{0} - z_{0}\\right)} e^{\\left(4 \\, t\\right)} + {\\left(x_{0} + y_{0} - z_{0}\\right)} e^{t} \\\\\n",
       "z\\left(t\\right) = 5 \\, t x_{0} e^{\\left(4 \\, t\\right)} + z_{0} e^{\\left(4 \\, t\\right)}\n",
       "\\end{array}\\right)$"
      ],
      "text/plain": [
       "[                                                  x(t) == x_0*e^(4*t)]\n",
       "[y(t) == 5*t*x_0*e^(4*t) - (x_0 - z_0)*e^(4*t) + (x_0 + y_0 - z_0)*e^t]\n",
       "[                                z(t) == 5*t*x_0*e^(4*t) + z_0*e^(4*t)]"
      ]
     },
     "execution_count": 146,
     "metadata": {},
     "output_type": "execute_result"
    }
   ],
   "source": [
    "Matrix(desolve_system(system, Y, ics=[0,x0,y0,z0])).transpose()"
   ]
  },
  {
   "cell_type": "markdown",
   "id": "52d17e01-373a-4f8f-b116-01a4047b2da9",
   "metadata": {},
   "source": [
    "Où $x(0)=x_0,y(0)=y_0,z(0)=z_0 \\in \\mathbb R$"
   ]
  },
  {
   "cell_type": "markdown",
   "id": "8d5bd394-0d39-4a08-a533-abe2dcb04106",
   "metadata": {},
   "source": [
    "#### Exercice 2"
   ]
  },
  {
   "cell_type": "markdown",
   "id": "db819991-22b2-4bcb-86bf-74f4ddee9734",
   "metadata": {},
   "source": [
    "On souhaite résoudre les systèmes $X'=AX$ avec\n",
    "\n",
    "$$A = \\begin{pmatrix} 0 & -1 \\\\ 1 & 0 \\end{pmatrix} \\text{ puis, } A = \\begin{pmatrix} 0 & 1 & -1 \\\\ 1 & 4 & -2 \\\\ 2 & 6 & -3 \\end{pmatrix}$$\n",
    "\n",
    "On procède de façon homologue à la question précédente"
   ]
  },
  {
   "cell_type": "code",
   "execution_count": 147,
   "id": "c0a9ebac-7f99-463e-8b42-809370582dcc",
   "metadata": {},
   "outputs": [
    {
     "data": {
      "text/html": [
       "<html>\\(\\displaystyle \\left(\\begin{array}{r}\n",
       "x\\left(t\\right) = x_{0} \\cos\\left(t\\right) - y_{0} \\sin\\left(t\\right) \\\\\n",
       "y\\left(t\\right) = y_{0} \\cos\\left(t\\right) + x_{0} \\sin\\left(t\\right)\n",
       "\\end{array}\\right)\\)</html>"
      ],
      "text/latex": [
       "$\\displaystyle \\left(\\begin{array}{r}\n",
       "x\\left(t\\right) = x_{0} \\cos\\left(t\\right) - y_{0} \\sin\\left(t\\right) \\\\\n",
       "y\\left(t\\right) = y_{0} \\cos\\left(t\\right) + x_{0} \\sin\\left(t\\right)\n",
       "\\end{array}\\right)$"
      ],
      "text/plain": [
       "[x(t) == x_0*cos(t) - y_0*sin(t)]\n",
       "[y(t) == y_0*cos(t) + x_0*sin(t)]"
      ]
     },
     "execution_count": 147,
     "metadata": {},
     "output_type": "execute_result"
    }
   ],
   "source": [
    "A = Matrix([\n",
    "    [0,-1],\n",
    "    [1,0]\n",
    "])\n",
    "system = [dX[i] - (A*X)[i] for i in range(2)]\n",
    "Matrix(desolve_system(system, X, ics=[0,x0,y0])).transpose()"
   ]
  },
  {
   "cell_type": "markdown",
   "id": "cb4bffac-6237-4279-8dfd-d8e66632c225",
   "metadata": {},
   "source": [
    "est une solution dans le premier cas et"
   ]
  },
  {
   "cell_type": "code",
   "execution_count": 148,
   "id": "e1cf6566-dd9a-49d6-991d-a45ad6b3104f",
   "metadata": {},
   "outputs": [
    {
     "data": {
      "text/html": [
       "<html>\\(\\displaystyle \\left(\\begin{array}{r}\n",
       "x\\left(t\\right) = \\frac{1}{2} \\, {\\left(2 \\, x_{0} + 2 \\, y_{0} - z_{0}\\right)} \\cos\\left(t\\right) - \\frac{1}{2} \\, {\\left(2 \\, y_{0} - z_{0}\\right)} e^{t} + \\frac{1}{2} \\, {\\left(4 \\, y_{0} - 3 \\, z_{0}\\right)} \\sin\\left(t\\right) \\\\\n",
       "y\\left(t\\right) = -\\frac{1}{2} \\, {\\left(4 \\, y_{0} - 3 \\, z_{0}\\right)} \\cos\\left(t\\right) + \\frac{3}{2} \\, {\\left(2 \\, y_{0} - z_{0}\\right)} e^{t} + \\frac{1}{2} \\, {\\left(2 \\, x_{0} + 2 \\, y_{0} - z_{0}\\right)} \\sin\\left(t\\right) \\\\\n",
       "z\\left(t\\right) = -{\\left(4 \\, y_{0} - 3 \\, z_{0}\\right)} \\cos\\left(t\\right) + 2 \\, {\\left(2 \\, y_{0} - z_{0}\\right)} e^{t} + {\\left(2 \\, x_{0} + 2 \\, y_{0} - z_{0}\\right)} \\sin\\left(t\\right)\n",
       "\\end{array}\\right)\\)</html>"
      ],
      "text/latex": [
       "$\\displaystyle \\left(\\begin{array}{r}\n",
       "x\\left(t\\right) = \\frac{1}{2} \\, {\\left(2 \\, x_{0} + 2 \\, y_{0} - z_{0}\\right)} \\cos\\left(t\\right) - \\frac{1}{2} \\, {\\left(2 \\, y_{0} - z_{0}\\right)} e^{t} + \\frac{1}{2} \\, {\\left(4 \\, y_{0} - 3 \\, z_{0}\\right)} \\sin\\left(t\\right) \\\\\n",
       "y\\left(t\\right) = -\\frac{1}{2} \\, {\\left(4 \\, y_{0} - 3 \\, z_{0}\\right)} \\cos\\left(t\\right) + \\frac{3}{2} \\, {\\left(2 \\, y_{0} - z_{0}\\right)} e^{t} + \\frac{1}{2} \\, {\\left(2 \\, x_{0} + 2 \\, y_{0} - z_{0}\\right)} \\sin\\left(t\\right) \\\\\n",
       "z\\left(t\\right) = -{\\left(4 \\, y_{0} - 3 \\, z_{0}\\right)} \\cos\\left(t\\right) + 2 \\, {\\left(2 \\, y_{0} - z_{0}\\right)} e^{t} + {\\left(2 \\, x_{0} + 2 \\, y_{0} - z_{0}\\right)} \\sin\\left(t\\right)\n",
       "\\end{array}\\right)$"
      ],
      "text/plain": [
       "[ x(t) == 1/2*(2*x_0 + 2*y_0 - z_0)*cos(t) - 1/2*(2*y_0 - z_0)*e^t + 1/2*(4*y_0 - 3*z_0)*sin(t)]\n",
       "[y(t) == -1/2*(4*y_0 - 3*z_0)*cos(t) + 3/2*(2*y_0 - z_0)*e^t + 1/2*(2*x_0 + 2*y_0 - z_0)*sin(t)]\n",
       "[          z(t) == -(4*y_0 - 3*z_0)*cos(t) + 2*(2*y_0 - z_0)*e^t + (2*x_0 + 2*y_0 - z_0)*sin(t)]"
      ]
     },
     "execution_count": 148,
     "metadata": {},
     "output_type": "execute_result"
    }
   ],
   "source": [
    "A = Matrix([\n",
    "    [0,1, -1],\n",
    "    [1,4, -2], \n",
    "    [2,6, -3]\n",
    "])\n",
    "system = [dY[i] - (A*Y)[i] for i in range(3)]\n",
    "Matrix(desolve_system(system, Y, ics=[0,x0,y0,z0])).transpose()"
   ]
  },
  {
   "cell_type": "markdown",
   "id": "9cb3c820-ffbd-44cb-a8da-17e3291755c9",
   "metadata": {},
   "source": [
    "une solution du deuxième, où $x(0)=x_0,y(0)=y_0,z(0)=z_0 \\in \\mathbb R$"
   ]
  },
  {
   "cell_type": "markdown",
   "id": "b745af98-5d36-41f4-b8bc-ef184a6e8ce0",
   "metadata": {},
   "source": [
    "#### Exercice 5:"
   ]
  },
  {
   "cell_type": "markdown",
   "id": "df0349aa-12a7-4e96-ab39-8deec48c92d0",
   "metadata": {},
   "source": [
    "1. Soient $A = \\begin{pmatrix} 0 & 0 \\\\ 1 & 0 \\end{pmatrix}$, $B = \\begin{pmatrix} 0 & 1 \\\\ 0 & 0 \\end{pmatrix}$, $V = \\begin{pmatrix} 0 & 1 \\\\ -1 & 0 \\end{pmatrix}$, $C = A+B$, on souhaite déterminer les exponentielles de ces matrices, dans l'ordre, on a"
   ]
  },
  {
   "cell_type": "code",
   "execution_count": 149,
   "id": "e8c09e2c-60fd-44bc-a7f5-de565ade6cdc",
   "metadata": {},
   "outputs": [
    {
     "data": {
      "text/html": [
       "<html>\\(\\displaystyle \\left(\\left(\\begin{array}{rr}\n",
       "1 & 0 \\\\\n",
       "1 & 1\n",
       "\\end{array}\\right), \\left(\\begin{array}{rr}\n",
       "1 & 1 \\\\\n",
       "0 & 1\n",
       "\\end{array}\\right), \\left(\\begin{array}{rr}\n",
       "\\frac{1}{2} \\, {\\left(e^{\\left(2 i\\right)} + 1\\right)} e^{\\left(-i\\right)} & -\\frac{1}{2} i \\, {\\left(e^{\\left(2 i\\right)} - 1\\right)} e^{\\left(-i\\right)} \\\\\n",
       "\\frac{1}{2} i \\, {\\left(e^{\\left(2 i\\right)} - 1\\right)} e^{\\left(-i\\right)} & \\frac{1}{2} \\, {\\left(e^{\\left(2 i\\right)} + 1\\right)} e^{\\left(-i\\right)}\n",
       "\\end{array}\\right), \\left(\\begin{array}{rr}\n",
       "\\frac{1}{2} \\, {\\left(e^{2} + 1\\right)} e^{\\left(-1\\right)} & \\frac{1}{2} \\, {\\left(e^{2} - 1\\right)} e^{\\left(-1\\right)} \\\\\n",
       "\\frac{1}{2} \\, {\\left(e^{2} - 1\\right)} e^{\\left(-1\\right)} & \\frac{1}{2} \\, {\\left(e^{2} + 1\\right)} e^{\\left(-1\\right)}\n",
       "\\end{array}\\right)\\right)\\)</html>"
      ],
      "text/latex": [
       "$\\displaystyle \\left(\\left(\\begin{array}{rr}\n",
       "1 & 0 \\\\\n",
       "1 & 1\n",
       "\\end{array}\\right), \\left(\\begin{array}{rr}\n",
       "1 & 1 \\\\\n",
       "0 & 1\n",
       "\\end{array}\\right), \\left(\\begin{array}{rr}\n",
       "\\frac{1}{2} \\, {\\left(e^{\\left(2 i\\right)} + 1\\right)} e^{\\left(-i\\right)} & -\\frac{1}{2} i \\, {\\left(e^{\\left(2 i\\right)} - 1\\right)} e^{\\left(-i\\right)} \\\\\n",
       "\\frac{1}{2} i \\, {\\left(e^{\\left(2 i\\right)} - 1\\right)} e^{\\left(-i\\right)} & \\frac{1}{2} \\, {\\left(e^{\\left(2 i\\right)} + 1\\right)} e^{\\left(-i\\right)}\n",
       "\\end{array}\\right), \\left(\\begin{array}{rr}\n",
       "\\frac{1}{2} \\, {\\left(e^{2} + 1\\right)} e^{\\left(-1\\right)} & \\frac{1}{2} \\, {\\left(e^{2} - 1\\right)} e^{\\left(-1\\right)} \\\\\n",
       "\\frac{1}{2} \\, {\\left(e^{2} - 1\\right)} e^{\\left(-1\\right)} & \\frac{1}{2} \\, {\\left(e^{2} + 1\\right)} e^{\\left(-1\\right)}\n",
       "\\end{array}\\right)\\right)$"
      ],
      "text/plain": [
       "(\n",
       "[1 0]  [1 1]\n",
       "[1 1], [0 1],\n",
       "\n",
       "[   1/2*(e^(2*I) + 1)*e^(-I) -1/2*I*(e^(2*I) - 1)*e^(-I)]\n",
       "[ 1/2*I*(e^(2*I) - 1)*e^(-I)    1/2*(e^(2*I) + 1)*e^(-I)],\n",
       "\n",
       "[1/2*(e^2 + 1)*e^(-1) 1/2*(e^2 - 1)*e^(-1)]\n",
       "[1/2*(e^2 - 1)*e^(-1) 1/2*(e^2 + 1)*e^(-1)]\n",
       ")"
      ]
     },
     "execution_count": 149,
     "metadata": {},
     "output_type": "execute_result"
    }
   ],
   "source": [
    "A = Matrix([\n",
    "    [0,0],\n",
    "    [1,0]\n",
    "])\n",
    "B = Matrix([\n",
    "    [0,1],\n",
    "    [0,0]\n",
    "])\n",
    "V = Matrix([\n",
    "    [0,1],\n",
    "    [-1,0]\n",
    "])\n",
    "C = A + B\n",
    "(exp(A), exp(B), exp(V), exp(C))"
   ]
  },
  {
   "cell_type": "markdown",
   "id": "5635817f-4b1b-47d5-b088-20c446e22d6a",
   "metadata": {},
   "source": [
    "2. On vérifie si $e^Ae^B=e^C$,"
   ]
  },
  {
   "cell_type": "code",
   "execution_count": 150,
   "id": "8e1f8722-0c70-4905-93f5-7bb7b6bd5d18",
   "metadata": {},
   "outputs": [
    {
     "data": {
      "text/html": [
       "<html>\\(\\displaystyle \\mathrm{False}\\)</html>"
      ],
      "text/latex": [
       "$\\displaystyle \\mathrm{False}$"
      ],
      "text/plain": [
       "False"
      ]
     },
     "execution_count": 150,
     "metadata": {},
     "output_type": "execute_result"
    }
   ],
   "source": [
    "exp(A)*exp(B) == exp(C)"
   ]
  },
  {
   "cell_type": "markdown",
   "id": "a0528bab-60eb-483a-9560-8ad56da1d105",
   "metadata": {},
   "source": [
    "On n'a donc pas cette égalité $e^Ae^B=e^C$."
   ]
  },
  {
   "cell_type": "markdown",
   "id": "68bd1de5-a216-4f1d-b955-393b980cd188",
   "metadata": {},
   "source": [
    "#### Exercice 6:"
   ]
  },
  {
   "cell_type": "markdown",
   "id": "7fdf256b-08ed-4a23-b8a2-cf80552db588",
   "metadata": {},
   "source": [
    "Soit la matrice $A = \\begin{pmatrix} 0 & 1 & 1 \\\\ 1 & 0 & 1 \\\\ 1 & 1 & 0 \\end{pmatrix}$, on souhaite résoudre le problème de Cauchy $Y'(t) = AY(t)$ avec $Y(0) = Y_0 = \\left(x_0, y_0, z_0\\right)$, puis déterminer $e^A$"
   ]
  },
  {
   "cell_type": "code",
   "execution_count": 153,
   "id": "c4d5738f-cc40-492d-91a1-b22b3642c90c",
   "metadata": {},
   "outputs": [
    {
     "data": {
      "text/html": [
       "<html>\\(\\displaystyle \\left(\\begin{array}{r}\n",
       "x\\left(t\\right) = \\frac{1}{3} \\, {\\left(x_{0} + y_{0} + z_{0}\\right)} e^{\\left(2 \\, t\\right)} + \\frac{1}{3} \\, {\\left(2 \\, x_{0} - y_{0} - z_{0}\\right)} e^{\\left(-t\\right)} \\\\\n",
       "y\\left(t\\right) = \\frac{1}{3} \\, {\\left(x_{0} + y_{0} + z_{0}\\right)} e^{\\left(2 \\, t\\right)} - \\frac{1}{3} \\, {\\left(x_{0} - 2 \\, y_{0} + z_{0}\\right)} e^{\\left(-t\\right)} \\\\\n",
       "z\\left(t\\right) = \\frac{1}{3} \\, {\\left(x_{0} + y_{0} + z_{0}\\right)} e^{\\left(2 \\, t\\right)} - \\frac{1}{3} \\, {\\left(x_{0} + y_{0} - 2 \\, z_{0}\\right)} e^{\\left(-t\\right)}\n",
       "\\end{array}\\right)\\)</html>"
      ],
      "text/latex": [
       "$\\displaystyle \\left(\\begin{array}{r}\n",
       "x\\left(t\\right) = \\frac{1}{3} \\, {\\left(x_{0} + y_{0} + z_{0}\\right)} e^{\\left(2 \\, t\\right)} + \\frac{1}{3} \\, {\\left(2 \\, x_{0} - y_{0} - z_{0}\\right)} e^{\\left(-t\\right)} \\\\\n",
       "y\\left(t\\right) = \\frac{1}{3} \\, {\\left(x_{0} + y_{0} + z_{0}\\right)} e^{\\left(2 \\, t\\right)} - \\frac{1}{3} \\, {\\left(x_{0} - 2 \\, y_{0} + z_{0}\\right)} e^{\\left(-t\\right)} \\\\\n",
       "z\\left(t\\right) = \\frac{1}{3} \\, {\\left(x_{0} + y_{0} + z_{0}\\right)} e^{\\left(2 \\, t\\right)} - \\frac{1}{3} \\, {\\left(x_{0} + y_{0} - 2 \\, z_{0}\\right)} e^{\\left(-t\\right)}\n",
       "\\end{array}\\right)$"
      ],
      "text/plain": [
       "[x(t) == 1/3*(x_0 + y_0 + z_0)*e^(2*t) + 1/3*(2*x_0 - y_0 - z_0)*e^(-t)]\n",
       "[y(t) == 1/3*(x_0 + y_0 + z_0)*e^(2*t) - 1/3*(x_0 - 2*y_0 + z_0)*e^(-t)]\n",
       "[z(t) == 1/3*(x_0 + y_0 + z_0)*e^(2*t) - 1/3*(x_0 + y_0 - 2*z_0)*e^(-t)]"
      ]
     },
     "execution_count": 153,
     "metadata": {},
     "output_type": "execute_result"
    }
   ],
   "source": [
    "A = Matrix([\n",
    "    [0,1, 1],\n",
    "    [1,0, 1], \n",
    "    [1,1, 0]\n",
    "])\n",
    "system = [dY[i] - (A*Y)[i] for i in range(3)]\n",
    "Matrix(desolve_system(system, Y, ics=[0,x0,y0,z0])).transpose()"
   ]
  },
  {
   "cell_type": "markdown",
   "id": "be0f1c02-379a-4b2d-b5fa-3b2d0bb7021c",
   "metadata": {},
   "source": [
    "On calcule ensuite $e^A$:"
   ]
  },
  {
   "cell_type": "code",
   "execution_count": 154,
   "id": "79983444-16b8-4596-8743-1d1f17e27741",
   "metadata": {},
   "outputs": [
    {
     "data": {
      "text/html": [
       "<html>\\(\\displaystyle \\left(\\begin{array}{rrr}\n",
       "\\frac{1}{3} \\, {\\left(e^{3} + 2\\right)} e^{\\left(-1\\right)} & \\frac{1}{3} \\, {\\left(e^{3} - 1\\right)} e^{\\left(-1\\right)} & \\frac{1}{3} \\, {\\left(e^{3} - 1\\right)} e^{\\left(-1\\right)} \\\\\n",
       "\\frac{1}{3} \\, {\\left(e^{3} - 1\\right)} e^{\\left(-1\\right)} & \\frac{1}{3} \\, {\\left(e^{3} + 2\\right)} e^{\\left(-1\\right)} & \\frac{1}{3} \\, {\\left(e^{3} - 1\\right)} e^{\\left(-1\\right)} \\\\\n",
       "\\frac{1}{3} \\, {\\left(e^{3} - 1\\right)} e^{\\left(-1\\right)} & \\frac{1}{3} \\, {\\left(e^{3} - 1\\right)} e^{\\left(-1\\right)} & \\frac{1}{3} \\, {\\left(e^{3} + 2\\right)} e^{\\left(-1\\right)}\n",
       "\\end{array}\\right)\\)</html>"
      ],
      "text/latex": [
       "$\\displaystyle \\left(\\begin{array}{rrr}\n",
       "\\frac{1}{3} \\, {\\left(e^{3} + 2\\right)} e^{\\left(-1\\right)} & \\frac{1}{3} \\, {\\left(e^{3} - 1\\right)} e^{\\left(-1\\right)} & \\frac{1}{3} \\, {\\left(e^{3} - 1\\right)} e^{\\left(-1\\right)} \\\\\n",
       "\\frac{1}{3} \\, {\\left(e^{3} - 1\\right)} e^{\\left(-1\\right)} & \\frac{1}{3} \\, {\\left(e^{3} + 2\\right)} e^{\\left(-1\\right)} & \\frac{1}{3} \\, {\\left(e^{3} - 1\\right)} e^{\\left(-1\\right)} \\\\\n",
       "\\frac{1}{3} \\, {\\left(e^{3} - 1\\right)} e^{\\left(-1\\right)} & \\frac{1}{3} \\, {\\left(e^{3} - 1\\right)} e^{\\left(-1\\right)} & \\frac{1}{3} \\, {\\left(e^{3} + 2\\right)} e^{\\left(-1\\right)}\n",
       "\\end{array}\\right)$"
      ],
      "text/plain": [
       "[1/3*(e^3 + 2)*e^(-1) 1/3*(e^3 - 1)*e^(-1) 1/3*(e^3 - 1)*e^(-1)]\n",
       "[1/3*(e^3 - 1)*e^(-1) 1/3*(e^3 + 2)*e^(-1) 1/3*(e^3 - 1)*e^(-1)]\n",
       "[1/3*(e^3 - 1)*e^(-1) 1/3*(e^3 - 1)*e^(-1) 1/3*(e^3 + 2)*e^(-1)]"
      ]
     },
     "execution_count": 154,
     "metadata": {},
     "output_type": "execute_result"
    }
   ],
   "source": [
    "exp(A)"
   ]
  },
  {
   "cell_type": "markdown",
   "id": "fcbbf1c5-27d0-426c-81a1-2c340980e899",
   "metadata": {},
   "source": [
    "#### Exercice 7:"
   ]
  },
  {
   "cell_type": "markdown",
   "id": "9f8b802b-ba41-4558-8c6c-23a7a7c5745f",
   "metadata": {},
   "source": [
    "Soit $A = \\begin{pmatrix} 1 & 0 & -1 & 1 \\\\ 0 & 1 & 1 & 0 \\\\ 0 & 0 & 1 & 0 \\\\ 0 & 0 & 1 & 0 \\end{pmatrix}$, on souhaite résoudre le système différentiel $Z'(t) = AZ(t)$ avec $Z(0) = Z_0 = \\left(x_0, y_0, z_0,u_0\\right)$, puis déterminer $e^A$"
   ]
  },
  {
   "cell_type": "code",
   "execution_count": 155,
   "id": "f48dbe1e-f356-461c-8b2c-aeebbe1c55b1",
   "metadata": {},
   "outputs": [
    {
     "data": {
      "text/html": [
       "<html>\\(\\displaystyle \\left(\\begin{array}{r}\n",
       "x\\left(t\\right) = {\\left(u_{0} + x_{0} - z_{0}\\right)} e^{t} - u_{0} + z_{0} \\\\\n",
       "y\\left(t\\right) = t z_{0} e^{t} + y_{0} e^{t} \\\\\n",
       "z\\left(t\\right) = z_{0} e^{t} \\\\\n",
       "u\\left(t\\right) = z_{0} e^{t} + u_{0} - z_{0}\n",
       "\\end{array}\\right)\\)</html>"
      ],
      "text/latex": [
       "$\\displaystyle \\left(\\begin{array}{r}\n",
       "x\\left(t\\right) = {\\left(u_{0} + x_{0} - z_{0}\\right)} e^{t} - u_{0} + z_{0} \\\\\n",
       "y\\left(t\\right) = t z_{0} e^{t} + y_{0} e^{t} \\\\\n",
       "z\\left(t\\right) = z_{0} e^{t} \\\\\n",
       "u\\left(t\\right) = z_{0} e^{t} + u_{0} - z_{0}\n",
       "\\end{array}\\right)$"
      ],
      "text/plain": [
       "[x(t) == (u_0 + x_0 - z_0)*e^t - u_0 + z_0]\n",
       "[              y(t) == t*z_0*e^t + y_0*e^t]\n",
       "[                          z(t) == z_0*e^t]\n",
       "[              u(t) == z_0*e^t + u_0 - z_0]"
      ]
     },
     "execution_count": 155,
     "metadata": {},
     "output_type": "execute_result"
    }
   ],
   "source": [
    "A = Matrix([\n",
    "    [1,0,-1,1],\n",
    "    [0,1,1,0],\n",
    "    [0,0,1,0],\n",
    "    [0,0,1,0]\n",
    "])\n",
    "system = [dZ[i] - (A*Z)[i] for i in range(4)]\n",
    "Matrix(desolve_system(system, Z, ics=[0,x0,y0,z0,u0])).transpose()"
   ]
  },
  {
   "cell_type": "markdown",
   "id": "f755b9a8-be0c-40e2-8c34-8791f5cdb666",
   "metadata": {},
   "source": [
    "## Exercice 7:"
   ]
  },
  {
   "cell_type": "markdown",
   "id": "990e20ac-1f9a-4fb9-a75a-db0e540ea2db",
   "metadata": {},
   "source": [
    "On souhaite résoudre le système différentiel $X'=AX + B$ avec $A = \\begin{pmatrix} 0 & -1  \\\\ 1 & 0 \\end{pmatrix}$ et $B = \\begin{pmatrix} -3t+4e^{3t}  \\\\ 4t-4e^{3t} \\end{pmatrix}$, seulement Sage ne sait pas résoudre ce type de systèmes, on résoud donc l'équation homogène avec le solveur Sage"
   ]
  },
  {
   "cell_type": "code",
   "execution_count": 156,
   "id": "b61c3b8f-e2db-41e8-b7c3-0a6fe7219419",
   "metadata": {},
   "outputs": [
    {
     "data": {
      "text/html": [
       "<html>\\(\\displaystyle \\left(\\begin{array}{r}\n",
       "x\\left(t\\right) = {\\left(4 \\, x_{0} + 3 \\, y_{0}\\right)} e^{\\left(3 \\, t\\right)} - 3 \\, {\\left(x_{0} + y_{0}\\right)} e^{\\left(2 \\, t\\right)} \\\\\n",
       "y\\left(t\\right) = -{\\left(4 \\, x_{0} + 3 \\, y_{0}\\right)} e^{\\left(3 \\, t\\right)} + 4 \\, {\\left(x_{0} + y_{0}\\right)} e^{\\left(2 \\, t\\right)}\n",
       "\\end{array}\\right)\\)</html>"
      ],
      "text/latex": [
       "$\\displaystyle \\left(\\begin{array}{r}\n",
       "x\\left(t\\right) = {\\left(4 \\, x_{0} + 3 \\, y_{0}\\right)} e^{\\left(3 \\, t\\right)} - 3 \\, {\\left(x_{0} + y_{0}\\right)} e^{\\left(2 \\, t\\right)} \\\\\n",
       "y\\left(t\\right) = -{\\left(4 \\, x_{0} + 3 \\, y_{0}\\right)} e^{\\left(3 \\, t\\right)} + 4 \\, {\\left(x_{0} + y_{0}\\right)} e^{\\left(2 \\, t\\right)}\n",
       "\\end{array}\\right)$"
      ],
      "text/plain": [
       "[ x(t) == (4*x_0 + 3*y_0)*e^(3*t) - 3*(x_0 + y_0)*e^(2*t)]\n",
       "[y(t) == -(4*x_0 + 3*y_0)*e^(3*t) + 4*(x_0 + y_0)*e^(2*t)]"
      ]
     },
     "execution_count": 156,
     "metadata": {},
     "output_type": "execute_result"
    }
   ],
   "source": [
    "A = Matrix([\n",
    "    [6,3],\n",
    "    [-4,-1]\n",
    "])\n",
    "B = vector([\n",
    "    -3*t+4*e**(3*t),\n",
    "    4*t-4*e**(3*t)\n",
    "])\n",
    "system = [dX[i] - (A*X)[i] for i in range(2)]\n",
    "sol_homogene = Matrix(desolve_system(system, X, ics=[0, x0, y0])).transpose()\n",
    "sol_homogene"
   ]
  },
  {
   "cell_type": "markdown",
   "id": "03697af0-2def-4b95-bff7-716905705850",
   "metadata": {},
   "source": [
    "On trouve à la main que la solution particulière de notre équation est\n",
    "# ARCHIE APPRENDS A ECRIRE C'EST ILLISIBLE ALORS QUE c'ETS DU LATEX"
   ]
  },
  {
   "cell_type": "code",
   "execution_count": null,
   "id": "f6ff2c8d-9397-47b0-bfd1-383fb859fc61",
   "metadata": {},
   "outputs": [],
   "source": []
  },
  {
   "cell_type": "markdown",
   "id": "7f34e2a1-c910-4550-9bf2-8ed03241a603",
   "metadata": {},
   "source": [
    "## Exercice 8:"
   ]
  },
  {
   "cell_type": "markdown",
   "id": "bdf1d79b-b656-4985-a83c-a8a237b9069b",
   "metadata": {},
   "source": [
    "Soient\n",
    "$\n",
    "Z = \n",
    "\\begin{pmatrix} \n",
    "x \\\\ \n",
    "y \\\\\n",
    "z \\\\\n",
    "u \\\\\n",
    "\\end{pmatrix},\n",
    "Z_0 = \n",
    "\\begin{pmatrix} \n",
    "x_0 \\\\ \n",
    "y_0 \\\\\n",
    "z_0 \\\\\n",
    "u_0 \\\\\n",
    "\\end{pmatrix},\n",
    "A = \n",
    "\\begin{pmatrix} \n",
    "4 & 0 & 2 & 0 \\\\ \n",
    "0 & 4 & 0 & 2 \\\\\n",
    "2 & 0 & 4 & 0 \\\\\n",
    "0 & 2 & 0 & 4 \\\\\n",
    "\\end{pmatrix}.\n",
    "$\n",
    "\n",
    "On s'interresse au problème de Cauchy $Z' = AZ$ avec $Z(0) = Z_0$"
   ]
  },
  {
   "cell_type": "code",
   "execution_count": 159,
   "id": "d28e594a-a607-47cc-889d-6844fb4534bd",
   "metadata": {},
   "outputs": [
    {
     "data": {
      "text/html": [
       "<html>\\(\\displaystyle \\left(\\begin{array}{r}\n",
       "x\\left(t\\right) = \\frac{1}{2} \\, {\\left(x_{0} + z_{0}\\right)} e^{\\left(6 \\, t\\right)} + \\frac{1}{2} \\, {\\left(x_{0} - z_{0}\\right)} e^{\\left(2 \\, t\\right)} \\\\\n",
       "y\\left(t\\right) = \\frac{1}{2} \\, {\\left(u_{0} + y_{0}\\right)} e^{\\left(6 \\, t\\right)} - \\frac{1}{2} \\, {\\left(u_{0} - y_{0}\\right)} e^{\\left(2 \\, t\\right)} \\\\\n",
       "z\\left(t\\right) = \\frac{1}{2} \\, {\\left(x_{0} + z_{0}\\right)} e^{\\left(6 \\, t\\right)} - \\frac{1}{2} \\, {\\left(x_{0} - z_{0}\\right)} e^{\\left(2 \\, t\\right)} \\\\\n",
       "u\\left(t\\right) = \\frac{1}{2} \\, {\\left(u_{0} + y_{0}\\right)} e^{\\left(6 \\, t\\right)} + \\frac{1}{2} \\, {\\left(u_{0} - y_{0}\\right)} e^{\\left(2 \\, t\\right)}\n",
       "\\end{array}\\right)\\)</html>"
      ],
      "text/latex": [
       "$\\displaystyle \\left(\\begin{array}{r}\n",
       "x\\left(t\\right) = \\frac{1}{2} \\, {\\left(x_{0} + z_{0}\\right)} e^{\\left(6 \\, t\\right)} + \\frac{1}{2} \\, {\\left(x_{0} - z_{0}\\right)} e^{\\left(2 \\, t\\right)} \\\\\n",
       "y\\left(t\\right) = \\frac{1}{2} \\, {\\left(u_{0} + y_{0}\\right)} e^{\\left(6 \\, t\\right)} - \\frac{1}{2} \\, {\\left(u_{0} - y_{0}\\right)} e^{\\left(2 \\, t\\right)} \\\\\n",
       "z\\left(t\\right) = \\frac{1}{2} \\, {\\left(x_{0} + z_{0}\\right)} e^{\\left(6 \\, t\\right)} - \\frac{1}{2} \\, {\\left(x_{0} - z_{0}\\right)} e^{\\left(2 \\, t\\right)} \\\\\n",
       "u\\left(t\\right) = \\frac{1}{2} \\, {\\left(u_{0} + y_{0}\\right)} e^{\\left(6 \\, t\\right)} + \\frac{1}{2} \\, {\\left(u_{0} - y_{0}\\right)} e^{\\left(2 \\, t\\right)}\n",
       "\\end{array}\\right)$"
      ],
      "text/plain": [
       "[x(t) == 1/2*(x_0 + z_0)*e^(6*t) + 1/2*(x_0 - z_0)*e^(2*t)]\n",
       "[y(t) == 1/2*(u_0 + y_0)*e^(6*t) - 1/2*(u_0 - y_0)*e^(2*t)]\n",
       "[z(t) == 1/2*(x_0 + z_0)*e^(6*t) - 1/2*(x_0 - z_0)*e^(2*t)]\n",
       "[u(t) == 1/2*(u_0 + y_0)*e^(6*t) + 1/2*(u_0 - y_0)*e^(2*t)]"
      ]
     },
     "execution_count": 159,
     "metadata": {},
     "output_type": "execute_result"
    }
   ],
   "source": [
    "A = Matrix([\n",
    "    [4, 0, 2, 0],\n",
    "    [0, 4, 0, 2],\n",
    "    [2, 0, 4, 0],\n",
    "    [0, 2, 0, 4]\n",
    "])\n",
    "\n",
    "system = [dZ[i] - (A*Z)[i] for i in range(4)]\n",
    "\n",
    "Matrix(desolve_system(system, Z, ics=[0,x0,y0,z0,u0])).transpose()"
   ]
  },
  {
   "cell_type": "markdown",
   "id": "a52f0926-ff7f-478c-9704-c34c375b4c5e",
   "metadata": {},
   "source": [
    "Pour la deuxième partie de l'exercice, on va simplement utiliser Sage pour calculer l'exponentielle de A."
   ]
  },
  {
   "cell_type": "code",
   "execution_count": 160,
   "id": "97f1a68b-4b03-4ec6-874c-ced6c9563ebd",
   "metadata": {},
   "outputs": [
    {
     "data": {
      "text/html": [
       "<html>\\(\\displaystyle \\left(\\begin{array}{rrrr}\n",
       "\\frac{1}{2} \\, e^{6} + \\frac{1}{2} \\, e^{2} & 0 & \\frac{1}{2} \\, e^{6} - \\frac{1}{2} \\, e^{2} & 0 \\\\\n",
       "0 & \\frac{1}{2} \\, e^{6} + \\frac{1}{2} \\, e^{2} & 0 & \\frac{1}{2} \\, e^{6} - \\frac{1}{2} \\, e^{2} \\\\\n",
       "\\frac{1}{2} \\, e^{6} - \\frac{1}{2} \\, e^{2} & 0 & \\frac{1}{2} \\, e^{6} + \\frac{1}{2} \\, e^{2} & 0 \\\\\n",
       "0 & \\frac{1}{2} \\, e^{6} - \\frac{1}{2} \\, e^{2} & 0 & \\frac{1}{2} \\, e^{6} + \\frac{1}{2} \\, e^{2}\n",
       "\\end{array}\\right)\\)</html>"
      ],
      "text/latex": [
       "$\\displaystyle \\left(\\begin{array}{rrrr}\n",
       "\\frac{1}{2} \\, e^{6} + \\frac{1}{2} \\, e^{2} & 0 & \\frac{1}{2} \\, e^{6} - \\frac{1}{2} \\, e^{2} & 0 \\\\\n",
       "0 & \\frac{1}{2} \\, e^{6} + \\frac{1}{2} \\, e^{2} & 0 & \\frac{1}{2} \\, e^{6} - \\frac{1}{2} \\, e^{2} \\\\\n",
       "\\frac{1}{2} \\, e^{6} - \\frac{1}{2} \\, e^{2} & 0 & \\frac{1}{2} \\, e^{6} + \\frac{1}{2} \\, e^{2} & 0 \\\\\n",
       "0 & \\frac{1}{2} \\, e^{6} - \\frac{1}{2} \\, e^{2} & 0 & \\frac{1}{2} \\, e^{6} + \\frac{1}{2} \\, e^{2}\n",
       "\\end{array}\\right)$"
      ],
      "text/plain": [
       "[1/2*e^6 + 1/2*e^2                 0 1/2*e^6 - 1/2*e^2                 0]\n",
       "[                0 1/2*e^6 + 1/2*e^2                 0 1/2*e^6 - 1/2*e^2]\n",
       "[1/2*e^6 - 1/2*e^2                 0 1/2*e^6 + 1/2*e^2                 0]\n",
       "[                0 1/2*e^6 - 1/2*e^2                 0 1/2*e^6 + 1/2*e^2]"
      ]
     },
     "execution_count": 160,
     "metadata": {},
     "output_type": "execute_result"
    }
   ],
   "source": [
    "exp(A)"
   ]
  },
  {
   "cell_type": "markdown",
   "id": "77b86036-e1f2-49e8-a1e1-17dc215a4075",
   "metadata": {},
   "source": [
    "je reprends ici ce que me renvoie Sage et le remet en forme pour être plus lisible.\n",
    "Ainsi, \n",
    "$$e^A = \\displaystyle \\left(\\begin{array}{c|c|c|c}\n",
    "\\frac{1}{2} \\, e^{6} + \\frac{1}{2} \\, e^{2} & 0 & \\frac{1}{2} \\, e^{6} - \\frac{1}{2} \\, e^{2} & 0 \\\\\n",
    "\\hline\n",
    "0 & \\frac{1}{2} \\, e^{6} + \\frac{1}{2} \\, e^{2} & 0 & \\frac{1}{2} \\, e^{6} - \\frac{1}{2} \\, e^{2} \\\\\n",
    "\\hline\n",
    "\\frac{1}{2} \\, e^{6} - \\frac{1}{2} \\, e^{2} & 0 & \\frac{1}{2} \\, e^{6} + \\frac{1}{2} \\, e^{2} & 0 \\\\\n",
    "\\hline\n",
    "0 & \\frac{1}{2} \\, e^{6} - \\frac{1}{2} \\, e^{2} & 0 & \\frac{1}{2} \\, e^{6} + \\frac{1}{2} \\, e^{2}\n",
    "\\end{array}\\right)$$"
   ]
  },
  {
   "cell_type": "markdown",
   "id": "b0b3d7c0-88f0-4e80-a54d-302ade57d1f6",
   "metadata": {},
   "source": [
    "## Exercice 9:"
   ]
  },
  {
   "cell_type": "code",
   "execution_count": 83,
   "id": "e86ab9df-03ef-4266-ade6-27e4d4d2f3d7",
   "metadata": {},
   "outputs": [],
   "source": [
    "def solver(A,x):\n",
    "    u1 = function('u_1')(t)\n",
    "    u2 = function('u_2')(t)\n",
    "\n",
    "    Y =  vector([u1,u2])\n",
    "    dY = diff(Y,t)\n",
    "\n",
    "    system = [dY[i] - (A*Y)[i] for i in range(2)]\n",
    "\n",
    "    sols = desolve_system(system, Y, ics=[0] + x)\n",
    "\n",
    "    return sols\n",
    "    "
   ]
  },
  {
   "cell_type": "code",
   "execution_count": 84,
   "id": "51924216-38c2-4c51-aa06-432919da7ab7",
   "metadata": {},
   "outputs": [
    {
     "data": {
      "text/plain": [
       "[u_1(t) == 14*e^(3*t) - 12*e^(2*t), u_2(t) == -14*e^(3*t) + 16*e^(2*t)]"
      ]
     },
     "execution_count": 84,
     "metadata": {},
     "output_type": "execute_result"
    }
   ],
   "source": [
    "A = Matrix([\n",
    "    [6, 3],\n",
    "    [-4, -1]\n",
    "])\n",
    "x = [2, 2]\n",
    "solver(A,x)"
   ]
  },
  {
   "cell_type": "code",
   "execution_count": 85,
   "id": "332406be-c88c-4eb1-ac52-15e8600f4b83",
   "metadata": {},
   "outputs": [
    {
     "data": {
      "text/plain": [
       "[u_1(t) == 7*e^(3*t) - 6*e^(2*t), u_2(t) == -7*e^(3*t) + 8*e^(2*t)]"
      ]
     },
     "execution_count": 85,
     "metadata": {},
     "output_type": "execute_result"
    }
   ],
   "source": [
    "solver(A,[1,1])"
   ]
  },
  {
   "cell_type": "code",
   "execution_count": null,
   "id": "e8cfdf68-4f2b-46d6-8e75-4bd61d524447",
   "metadata": {},
   "outputs": [],
   "source": []
  }
 ],
 "metadata": {
  "kernelspec": {
   "display_name": "SageMath 10.5",
   "language": "sage",
   "name": "sagemath"
  },
  "language_info": {
   "codemirror_mode": {
    "name": "ipython",
    "version": 3
   },
   "file_extension": ".py",
   "mimetype": "text/x-python",
   "name": "python",
   "nbconvert_exporter": "python",
   "pygments_lexer": "ipython3",
   "version": "3.12.7"
  }
 },
 "nbformat": 4,
 "nbformat_minor": 5
}
