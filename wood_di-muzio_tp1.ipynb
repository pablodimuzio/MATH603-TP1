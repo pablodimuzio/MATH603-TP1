{
 "cells": [
  {
   "cell_type": "code",
   "execution_count": 3,
   "id": "5d564216-2e71-4116-a5ff-1056239276fe",
   "metadata": {},
   "outputs": [],
   "source": [
    "%display latex"
   ]
  },
  {
   "cell_type": "markdown",
   "id": "994e4bfa-a997-408a-a279-ace4f6289d89",
   "metadata": {},
   "source": [
    "# Traveaux pratiques de Math603\n",
    "Archie WOOD, Pablo DI MUZIO"
   ]
  },
  {
   "cell_type": "markdown",
   "id": "040fa7ea-7192-4275-9853-4d72989a01fb",
   "metadata": {},
   "source": [
    "Pour résoudre les équations, on commence par fixer les variables et les fonctions que l'on va utiliser dans la suite du tp."
   ]
  },
  {
   "cell_type": "code",
   "execution_count": 4,
   "id": "fcb83bf5-606c-42c6-af95-3f47d7159001",
   "metadata": {},
   "outputs": [],
   "source": [
    "t=var('t')\n",
    "y=function('y')(t)\n",
    "dy=diff(y,t)"
   ]
  },
  {
   "cell_type": "code",
   "execution_count": 5,
   "id": "1ebf4b4d-db13-4b1b-9622-c5f41747d3a7",
   "metadata": {},
   "outputs": [],
   "source": [
    "def make_fun(C,expr): \n",
    "    s(t) = expr.substitute(expr.variables()[0] == C)\n",
    "    return s\n",
    "\n",
    "def c_plot(expr,C,interval,cl='blue'):\n",
    "    s = make_fun(C,expr)\n",
    "    return plot(s,interval,color=cl,legend_label=r'$C = {0}$'.format(C))"
   ]
  },
  {
   "cell_type": "markdown",
   "id": "36d62a93-445b-411e-986a-877f7fcd730d",
   "metadata": {},
   "source": [
    "Désormais, on peut utiliser les variables `t,y,dy` pour désigner la variable, la fonction et sa dérivée"
   ]
  },
  {
   "cell_type": "markdown",
   "id": "76b8794d-f1a2-4266-92a7-f8d9346962a3",
   "metadata": {},
   "source": [
    "## Exercice 1"
   ]
  },
  {
   "cell_type": "markdown",
   "id": "1717363b-b393-487f-b867-3679c0fa9bf4",
   "metadata": {},
   "source": [
    "Les solutions de $y'-4y=3$ sont de la forme"
   ]
  },
  {
   "cell_type": "code",
   "execution_count": 6,
   "id": "486796db-ca04-4d7b-b162-f661feb0fd41",
   "metadata": {},
   "outputs": [
    {
     "data": {
      "text/html": [
       "<html><script type=\"math/tex; mode=display\">\\newcommand{\\Bold}[1]{\\mathbf{#1}}\\frac{1}{4} \\, {\\left(4 \\, C - 3 \\, e^{\\left(-4 \\, t\\right)}\\right)} e^{\\left(4 \\, t\\right)}</script></html>"
      ],
      "text/latex": [
       "$$\\newcommand{\\Bold}[1]{\\mathbf{#1}}\\frac{1}{4} \\, {\\left(4 \\, C - 3 \\, e^{\\left(-4 \\, t\\right)}\\right)} e^{\\left(4 \\, t\\right)}$$"
      ],
      "text/plain": [
       "1/4*(4*_C - 3*e^(-4*t))*e^(4*t)"
      ]
     },
     "execution_count": 6,
     "metadata": {},
     "output_type": "execute_result"
    }
   ],
   "source": [
    "desolve(dy-4*y==3,y)"
   ]
  },
  {
   "cell_type": "markdown",
   "id": "35633ca8-e8e0-4a0f-9cb1-d0294838884a",
   "metadata": {},
   "source": [
    "Les solutions de $y'+y=\\sin(t)$ sont de la forme"
   ]
  },
  {
   "cell_type": "code",
   "execution_count": 7,
   "id": "ed321622-d4e5-47c2-9d8b-1f4ae0806c3d",
   "metadata": {},
   "outputs": [
    {
     "data": {
      "text/html": [
       "<html><script type=\"math/tex; mode=display\">\\newcommand{\\Bold}[1]{\\mathbf{#1}}-\\frac{1}{2} \\, {\\left({\\left(\\cos\\left(t\\right) - \\sin\\left(t\\right)\\right)} e^{t} - 2 \\, C\\right)} e^{\\left(-t\\right)}</script></html>"
      ],
      "text/latex": [
       "$$\\newcommand{\\Bold}[1]{\\mathbf{#1}}-\\frac{1}{2} \\, {\\left({\\left(\\cos\\left(t\\right) - \\sin\\left(t\\right)\\right)} e^{t} - 2 \\, C\\right)} e^{\\left(-t\\right)}$$"
      ],
      "text/plain": [
       "-1/2*((cos(t) - sin(t))*e^t - 2*_C)*e^(-t)"
      ]
     },
     "execution_count": 7,
     "metadata": {},
     "output_type": "execute_result"
    }
   ],
   "source": [
    "desolve(dy+y==sin(t),y)"
   ]
  },
  {
   "cell_type": "markdown",
   "id": "26bc60a7-6062-460c-b307-d54151db8e09",
   "metadata": {},
   "source": [
    "Les solutions de $y'+y=(t^2+2x+2)e^t$ sont de la forme"
   ]
  },
  {
   "cell_type": "code",
   "execution_count": 8,
   "id": "89566163-cdce-4dd5-be09-868304d5e962",
   "metadata": {},
   "outputs": [
    {
     "data": {
      "text/html": [
       "<html><script type=\"math/tex; mode=display\">\\newcommand{\\Bold}[1]{\\mathbf{#1}}\\frac{1}{4} \\, {\\left({\\left(2 \\, t^{2} - 2 \\, t + 1\\right)} e^{\\left(2 \\, t\\right)} + 2 \\, {\\left(2 \\, t - 1\\right)} e^{\\left(2 \\, t\\right)} + 4 \\, C + 4 \\, e^{\\left(2 \\, t\\right)}\\right)} e^{\\left(-t\\right)}</script></html>"
      ],
      "text/latex": [
       "$$\\newcommand{\\Bold}[1]{\\mathbf{#1}}\\frac{1}{4} \\, {\\left({\\left(2 \\, t^{2} - 2 \\, t + 1\\right)} e^{\\left(2 \\, t\\right)} + 2 \\, {\\left(2 \\, t - 1\\right)} e^{\\left(2 \\, t\\right)} + 4 \\, C + 4 \\, e^{\\left(2 \\, t\\right)}\\right)} e^{\\left(-t\\right)}$$"
      ],
      "text/plain": [
       "1/4*((2*t^2 - 2*t + 1)*e^(2*t) + 2*(2*t - 1)*e^(2*t) + 4*_C + 4*e^(2*t))*e^(-t)"
      ]
     },
     "execution_count": 8,
     "metadata": {},
     "output_type": "execute_result"
    }
   ],
   "source": [
    "desolve(dy+y==(t**2+2*t+2)*exp(t), y)"
   ]
  },
  {
   "cell_type": "markdown",
   "id": "67fe3139-3bef-4617-bd38-998810739f6f",
   "metadata": {},
   "source": [
    "Les solutions de $y'+y=\\cos(t)e^{-t}$ sont de la forme"
   ]
  },
  {
   "cell_type": "code",
   "execution_count": 9,
   "id": "98176d77-3bfb-45be-bd77-3fcd54ebc585",
   "metadata": {},
   "outputs": [
    {
     "data": {
      "text/html": [
       "<html><script type=\"math/tex; mode=display\">\\newcommand{\\Bold}[1]{\\mathbf{#1}}{\\left(C + \\sin\\left(t\\right)\\right)} e^{\\left(-t\\right)}</script></html>"
      ],
      "text/latex": [
       "$$\\newcommand{\\Bold}[1]{\\mathbf{#1}}{\\left(C + \\sin\\left(t\\right)\\right)} e^{\\left(-t\\right)}$$"
      ],
      "text/plain": [
       "(_C + sin(t))*e^(-t)"
      ]
     },
     "execution_count": 9,
     "metadata": {},
     "output_type": "execute_result"
    }
   ],
   "source": [
    "desolve(dy+y==cos(t)*exp(-t), y)"
   ]
  },
  {
   "cell_type": "markdown",
   "id": "b53832b2-d8bc-4e80-b135-0086d5fcff6f",
   "metadata": {},
   "source": [
    "Les solutions de $y'+y=\\dfrac{1}{1+e^t}$ sont de la forme"
   ]
  },
  {
   "cell_type": "code",
   "execution_count": 10,
   "id": "2c8b7953-0ea8-451a-8608-670eb3c5d9db",
   "metadata": {},
   "outputs": [
    {
     "data": {
      "text/html": [
       "<html><script type=\"math/tex; mode=display\">\\newcommand{\\Bold}[1]{\\mathbf{#1}}{\\left(C + \\log\\left(e^{t} + 1\\right)\\right)} e^{\\left(-t\\right)}</script></html>"
      ],
      "text/latex": [
       "$$\\newcommand{\\Bold}[1]{\\mathbf{#1}}{\\left(C + \\log\\left(e^{t} + 1\\right)\\right)} e^{\\left(-t\\right)}$$"
      ],
      "text/plain": [
       "(_C + log(e^t + 1))*e^(-t)"
      ]
     },
     "execution_count": 10,
     "metadata": {},
     "output_type": "execute_result"
    }
   ],
   "source": [
    "desolve(dy+y==1/(1+exp(t)),y)"
   ]
  },
  {
   "cell_type": "markdown",
   "id": "8e7878aa-6446-43e3-ae4a-6134a3aaad02",
   "metadata": {},
   "source": [
    "## Exercice 2"
   ]
  },
  {
   "cell_type": "markdown",
   "id": "3513593b-04a3-477d-a206-eaefd142d56b",
   "metadata": {},
   "source": [
    "Les solutions de $(1+t^2)y'+2ty=e^t+t$ sont de la forme"
   ]
  },
  {
   "cell_type": "code",
   "execution_count": 11,
   "id": "f3f1bde1-e816-467e-b058-88c0aae9de64",
   "metadata": {},
   "outputs": [
    {
     "data": {
      "text/html": [
       "<html><script type=\"math/tex; mode=display\">\\newcommand{\\Bold}[1]{\\mathbf{#1}}\\frac{t^{2} + 2 \\, C + 2 \\, e^{t}}{2 \\, {\\left(t^{2} + 1\\right)}}</script></html>"
      ],
      "text/latex": [
       "$$\\newcommand{\\Bold}[1]{\\mathbf{#1}}\\frac{t^{2} + 2 \\, C + 2 \\, e^{t}}{2 \\, {\\left(t^{2} + 1\\right)}}$$"
      ],
      "text/plain": [
       "1/2*(t^2 + 2*_C + 2*e^t)/(t^2 + 1)"
      ]
     },
     "execution_count": 11,
     "metadata": {},
     "output_type": "execute_result"
    }
   ],
   "source": [
    "desolve( (1+t**2)*dy + 2*t*y == exp(t) + t, y)"
   ]
  },
  {
   "cell_type": "markdown",
   "id": "16edae52-e123-407b-b17e-2797b43024bd",
   "metadata": {},
   "source": [
    "Les solutions de $y'-\\dfrac{2}{t+1}y=(t+1)^2$ sont de la forme"
   ]
  },
  {
   "cell_type": "code",
   "execution_count": 12,
   "id": "ec56e7a7-7bbe-4e6f-86b8-732a26eab45c",
   "metadata": {},
   "outputs": [
    {
     "data": {
      "text/html": [
       "<html><script type=\"math/tex; mode=display\">\\newcommand{\\Bold}[1]{\\mathbf{#1}}{\\left(C + t\\right)} {\\left(t + 1\\right)}^{2}</script></html>"
      ],
      "text/latex": [
       "$$\\newcommand{\\Bold}[1]{\\mathbf{#1}}{\\left(C + t\\right)} {\\left(t + 1\\right)}^{2}$$"
      ],
      "text/plain": [
       "(_C + t)*(t + 1)^2"
      ]
     },
     "execution_count": 12,
     "metadata": {},
     "output_type": "execute_result"
    }
   ],
   "source": [
    "desolve( dy - 2/(t+1)*y == (t+1)^2, y)"
   ]
  },
  {
   "cell_type": "markdown",
   "id": "0a176f65-4f1f-472e-9bb0-c28e6566e5a7",
   "metadata": {},
   "source": [
    "Les solutions de $t^2y'-(1-t)y=1$ sont de la forme"
   ]
  },
  {
   "cell_type": "code",
   "execution_count": 13,
   "id": "8b1c3be3-ac7f-42bb-b9a9-4a8a906415c7",
   "metadata": {},
   "outputs": [
    {
     "data": {
      "text/html": [
       "<html><script type=\"math/tex; mode=display\">\\newcommand{\\Bold}[1]{\\mathbf{#1}}{\\left(C + \\Gamma\\left(2, \\frac{1}{t}\\right)\\right)} t e^{\\frac{1}{t}}</script></html>"
      ],
      "text/latex": [
       "$$\\newcommand{\\Bold}[1]{\\mathbf{#1}}{\\left(C + \\Gamma\\left(2, \\frac{1}{t}\\right)\\right)} t e^{\\frac{1}{t}}$$"
      ],
      "text/plain": [
       "(_C + gamma(2, 1/t))*t*e^(1/t)"
      ]
     },
     "execution_count": 13,
     "metadata": {},
     "output_type": "execute_result"
    }
   ],
   "source": [
    "desolve( t**2*dy + (1-t)*y == 1, y)"
   ]
  },
  {
   "cell_type": "code",
   "execution_count": 14,
   "id": "d750da02-1ee7-47a6-ae53-58f53fe2082e",
   "metadata": {},
   "outputs": [
    {
     "data": {
      "text/html": [
       "<html><script type=\"math/tex; mode=display\">\\newcommand{\\Bold}[1]{\\mathbf{#1}}{\\left(C - \\frac{1}{t} - \\arctan\\left(t\\right) - \\log\\left(t^{2} + 1\\right) + 2 \\, \\log\\left(t\\right)\\right)} t</script></html>"
      ],
      "text/latex": [
       "$$\\newcommand{\\Bold}[1]{\\mathbf{#1}}{\\left(C - \\frac{1}{t} - \\arctan\\left(t\\right) - \\log\\left(t^{2} + 1\\right) + 2 \\, \\log\\left(t\\right)\\right)} t$$"
      ],
      "text/plain": [
       "(_C - 1/t - arctan(t) - log(t^2 + 1) + 2*log(t))*t"
      ]
     },
     "execution_count": 14,
     "metadata": {},
     "output_type": "execute_result"
    }
   ],
   "source": [
    "desolve( t*dy - y == (2*t+1)/(t^2+1), y)"
   ]
  },
  {
   "cell_type": "code",
   "execution_count": 15,
   "id": "21f8ba1e-5208-4da7-8ebd-fe7ddc72215f",
   "metadata": {},
   "outputs": [
    {
     "data": {
      "text/html": [
       "<html><script type=\"math/tex; mode=display\">\\newcommand{\\Bold}[1]{\\mathbf{#1}}-\\frac{t \\cos\\left(t\\right) - C + \\cos\\left(t\\right) - \\sin\\left(t\\right)}{t + 1}</script></html>"
      ],
      "text/latex": [
       "$$\\newcommand{\\Bold}[1]{\\mathbf{#1}}-\\frac{t \\cos\\left(t\\right) - C + \\cos\\left(t\\right) - \\sin\\left(t\\right)}{t + 1}$$"
      ],
      "text/plain": [
       "-(t*cos(t) - _C + cos(t) - sin(t))/(t + 1)"
      ]
     },
     "execution_count": 15,
     "metadata": {},
     "output_type": "execute_result"
    }
   ],
   "source": [
    "desolve( (t+1)*dy+y == (t+1)*sin(t) , y)"
   ]
  },
  {
   "cell_type": "markdown",
   "id": "c40c3d3d-560f-464a-b14d-96beba2a269c",
   "metadata": {},
   "source": [
    "## Exercice 3"
   ]
  },
  {
   "cell_type": "markdown",
   "id": "103799f0-3bce-44b2-b1f0-0b7a59375c3e",
   "metadata": {},
   "source": [
    "Les solutions de $y'+\\dfrac{y}{2} = \\dfrac{(t-1)y^3}{2}$ sont de la forme"
   ]
  },
  {
   "cell_type": "code",
   "execution_count": 16,
   "id": "be09deda-0d1e-448c-8631-4dce520777fd",
   "metadata": {},
   "outputs": [
    {
     "data": {
      "text/html": [
       "<html><script type=\"math/tex; mode=display\">\\newcommand{\\Bold}[1]{\\mathbf{#1}}\\frac{e^{\\left(-\\frac{1}{2} \\, t\\right)}}{\\sqrt{{\\left(t + 1\\right)} e^{\\left(-t\\right)} + C - e^{\\left(-t\\right)}}}</script></html>"
      ],
      "text/latex": [
       "$$\\newcommand{\\Bold}[1]{\\mathbf{#1}}\\frac{e^{\\left(-\\frac{1}{2} \\, t\\right)}}{\\sqrt{{\\left(t + 1\\right)} e^{\\left(-t\\right)} + C - e^{\\left(-t\\right)}}}$$"
      ],
      "text/plain": [
       "e^(-1/2*t)/sqrt((t + 1)*e^(-t) + _C - e^(-t))"
      ]
     },
     "execution_count": 16,
     "metadata": {},
     "output_type": "execute_result"
    }
   ],
   "source": [
    "desolve( dy + 1/2*y == 1/2*(t-1)*y^3 , y)"
   ]
  },
  {
   "cell_type": "markdown",
   "id": "63b474de-60d4-438c-b0e2-a126baa7fd50",
   "metadata": {},
   "source": [
    "Les solutions de $ty'+y -ty^3= 0$ sont de la forme"
   ]
  },
  {
   "cell_type": "code",
   "execution_count": 17,
   "id": "71e4b16c-6512-4358-8e24-e6bac48469c4",
   "metadata": {},
   "outputs": [
    {
     "data": {
      "text/html": [
       "<html><script type=\"math/tex; mode=display\">\\newcommand{\\Bold}[1]{\\mathbf{#1}}\\frac{1}{\\sqrt{C + \\frac{2}{t}} t}</script></html>"
      ],
      "text/latex": [
       "$$\\newcommand{\\Bold}[1]{\\mathbf{#1}}\\frac{1}{\\sqrt{C + \\frac{2}{t}} t}$$"
      ],
      "text/plain": [
       "1/(sqrt(_C + 2/t)*t)"
      ]
     },
     "execution_count": 17,
     "metadata": {},
     "output_type": "execute_result"
    }
   ],
   "source": [
    "desolve( t*dy + y - t*y^3 == 0 , y)"
   ]
  },
  {
   "cell_type": "markdown",
   "id": "6525d2dc-0f72-483f-a042-091fd1d69b43",
   "metadata": {},
   "source": [
    "## Exercice 4"
   ]
  },
  {
   "cell_type": "code",
   "execution_count": 18,
   "id": "2837cb6d-c4f2-4d23-b9cc-f346c3d72d5c",
   "metadata": {},
   "outputs": [
    {
     "data": {
      "text/html": [
       "<html><script type=\"math/tex; mode=display\">\\newcommand{\\Bold}[1]{\\mathbf{#1}}{\\left(y\\left(t\\right)^{2} + \\frac{\\partial}{\\partial t}y\\left(t\\right)\\right)} t^{2} = t y\\left(t\\right) - 1</script></html>"
      ],
      "text/latex": [
       "$$\\newcommand{\\Bold}[1]{\\mathbf{#1}}{\\left(y\\left(t\\right)^{2} + \\frac{\\partial}{\\partial t}y\\left(t\\right)\\right)} t^{2} = t y\\left(t\\right) - 1$$"
      ],
      "text/plain": [
       "(y(t)^2 + diff(y(t), t))*t^2 == t*y(t) - 1"
      ]
     },
     "execution_count": 18,
     "metadata": {},
     "output_type": "execute_result"
    }
   ],
   "source": [
    "ediff = t^2*(diff(y,t) + y^2) == t*y - 1\n",
    "ediff"
   ]
  },
  {
   "cell_type": "code",
   "execution_count": 19,
   "id": "0a376b3c-5bef-49b0-84b3-b47272152e84",
   "metadata": {},
   "outputs": [
    {
     "data": {
      "text/html": [
       "<html><script type=\"math/tex; mode=display\">\\newcommand{\\Bold}[1]{\\mathbf{#1}}t = C e^{\\left(\\frac{1}{t y\\left(t\\right) - 1}\\right)}</script></html>"
      ],
      "text/latex": [
       "$$\\newcommand{\\Bold}[1]{\\mathbf{#1}}t = C e^{\\left(\\frac{1}{t y\\left(t\\right) - 1}\\right)}$$"
      ],
      "text/plain": [
       "t == _C*e^(1/(t*y(t) - 1))"
      ]
     },
     "execution_count": 19,
     "metadata": {},
     "output_type": "execute_result"
    }
   ],
   "source": [
    "eq = desolve(ediff, y)\n",
    "eq"
   ]
  },
  {
   "cell_type": "code",
   "execution_count": 20,
   "id": "0f91ed74-2184-4be3-b13b-b58fb375318b",
   "metadata": {},
   "outputs": [
    {
     "data": {
      "text/html": [
       "<html><script type=\"math/tex; mode=display\">\\newcommand{\\Bold}[1]{\\mathbf{#1}}y\\left(t\\right) = \\frac{\\log\\left(\\frac{t}{C}\\right) + 1}{t \\log\\left(\\frac{t}{C}\\right)}</script></html>"
      ],
      "text/latex": [
       "$$\\newcommand{\\Bold}[1]{\\mathbf{#1}}y\\left(t\\right) = \\frac{\\log\\left(\\frac{t}{C}\\right) + 1}{t \\log\\left(\\frac{t}{C}\\right)}$$"
      ],
      "text/plain": [
       "y(t) == (log(t/_C) + 1)/(t*log(t/_C))"
      ]
     },
     "execution_count": 20,
     "metadata": {},
     "output_type": "execute_result"
    }
   ],
   "source": [
    "solve(eq,y)[0]"
   ]
  },
  {
   "cell_type": "code",
   "execution_count": 21,
   "id": "25b956e2-10e6-41e1-bb01-af725de2d934",
   "metadata": {},
   "outputs": [
    {
     "data": {
      "text/html": [
       "<html><script type=\"math/tex; mode=display\">\\newcommand{\\Bold}[1]{\\mathbf{#1}}t^{2} y\\left(t\\right) + y\\left(t\\right)^{2} - {\\left(t^{3} - 1\\right)} \\frac{\\partial}{\\partial t}y\\left(t\\right) - 2 \\, t = 0</script></html>"
      ],
      "text/latex": [
       "$$\\newcommand{\\Bold}[1]{\\mathbf{#1}}t^{2} y\\left(t\\right) + y\\left(t\\right)^{2} - {\\left(t^{3} - 1\\right)} \\frac{\\partial}{\\partial t}y\\left(t\\right) - 2 \\, t = 0$$"
      ],
      "text/plain": [
       "t^2*y(t) + y(t)^2 - (t^3 - 1)*diff(y(t), t) - 2*t == 0"
      ]
     },
     "execution_count": 21,
     "metadata": {},
     "output_type": "execute_result"
    }
   ],
   "source": [
    "ediff = (1-t**3)*dy + t**2*y + y**2 - 2*t == 0\n",
    "ediff"
   ]
  },
  {
   "cell_type": "code",
   "execution_count": 22,
   "id": "500a648e-a632-4726-bf94-d228c7ba9579",
   "metadata": {},
   "outputs": [
    {
     "data": {
      "text/html": [
       "<html><script type=\"math/tex; mode=display\">\\newcommand{\\Bold}[1]{\\mathbf{#1}}y\\left(t\\right) = \\frac{2 \\, C {\\left(t - 1\\right)} t^{5} + {\\left({\\left(t^{2} + t + 1\\right)} C + {\\left(C + 2\\right)} {\\left(t - 1\\right)}\\right)} t^{4} - 2 \\, C {\\left(t - 1\\right)} t^{2} - {\\left({\\left(3 \\, C {\\left(t - 1\\right)} - 1\\right)} {\\left(t^{2} + t + 1\\right)} - t + 1\\right)} t^{3} + {\\left(3 \\, C {\\left(t - 1\\right)} - 1\\right)} {\\left(t^{2} + t + 1\\right)} - {\\left({\\left(t^{2} + t + 1\\right)} C + {\\left(C + 2\\right)} {\\left(t - 1\\right)}\\right)} t - t + 1}{3 \\, {\\left({\\left(t^{2} + t + 1\\right)} C {\\left(t - 1\\right)} t + {\\left(t^{2} + t + 1\\right)} {\\left(t - 1\\right)}\\right)}}</script></html>"
      ],
      "text/latex": [
       "$$\\newcommand{\\Bold}[1]{\\mathbf{#1}}y\\left(t\\right) = \\frac{2 \\, C {\\left(t - 1\\right)} t^{5} + {\\left({\\left(t^{2} + t + 1\\right)} C + {\\left(C + 2\\right)} {\\left(t - 1\\right)}\\right)} t^{4} - 2 \\, C {\\left(t - 1\\right)} t^{2} - {\\left({\\left(3 \\, C {\\left(t - 1\\right)} - 1\\right)} {\\left(t^{2} + t + 1\\right)} - t + 1\\right)} t^{3} + {\\left(3 \\, C {\\left(t - 1\\right)} - 1\\right)} {\\left(t^{2} + t + 1\\right)} - {\\left({\\left(t^{2} + t + 1\\right)} C + {\\left(C + 2\\right)} {\\left(t - 1\\right)}\\right)} t - t + 1}{3 \\, {\\left({\\left(t^{2} + t + 1\\right)} C {\\left(t - 1\\right)} t + {\\left(t^{2} + t + 1\\right)} {\\left(t - 1\\right)}\\right)}}$$"
      ],
      "text/plain": [
       "y(t) == 1/3*(2*_C*(t - 1)*t^5 + ((t^2 + t + 1)*_C + (_C + 2)*(t - 1))*t^4 - 2*_C*(t - 1)*t^2 - ((3*_C*(t - 1) - 1)*(t^2 + t + 1) - t + 1)*t^3 + (3*_C*(t - 1) - 1)*(t^2 + t + 1) - ((t^2 + t + 1)*_C + (_C + 2)*(t - 1))*t - t + 1)/((t^2 + t + 1)*_C*(t - 1)*t + (t^2 + t + 1)*(t - 1))"
      ]
     },
     "execution_count": 22,
     "metadata": {},
     "output_type": "execute_result"
    }
   ],
   "source": [
    "sol = desolve(ediff, y, contrib_ode=true)[0]\n",
    "sol"
   ]
  },
  {
   "cell_type": "markdown",
   "id": "a481ce18-1e1b-4dc0-9dd7-9ff6bb4c74a2",
   "metadata": {},
   "source": [
    "## Exercice 5"
   ]
  },
  {
   "cell_type": "code",
   "execution_count": 23,
   "id": "4970cab9-5f7e-416e-8970-44931f3cc535",
   "metadata": {},
   "outputs": [
    {
     "data": {
      "text/html": [
       "<html><script type=\"math/tex; mode=display\">\\newcommand{\\Bold}[1]{\\mathbf{#1}}t^{2} \\frac{\\partial}{\\partial t}y\\left(t\\right) = e^{y\\left(t\\right)}</script></html>"
      ],
      "text/latex": [
       "$$\\newcommand{\\Bold}[1]{\\mathbf{#1}}t^{2} \\frac{\\partial}{\\partial t}y\\left(t\\right) = e^{y\\left(t\\right)}$$"
      ],
      "text/plain": [
       "t^2*diff(y(t), t) == e^y(t)"
      ]
     },
     "execution_count": 23,
     "metadata": {},
     "output_type": "execute_result"
    }
   ],
   "source": [
    "ediff = t**2*dy == exp(y)\n",
    "ediff"
   ]
  },
  {
   "cell_type": "code",
   "execution_count": 24,
   "id": "92da12f2-e77e-4ce5-b71f-350c17e3b943",
   "metadata": {},
   "outputs": [
    {
     "data": {
      "text/html": [
       "<html><script type=\"math/tex; mode=display\">\\newcommand{\\Bold}[1]{\\mathbf{#1}}-e^{\\left(-y\\left(t\\right)\\right)} = C - \\frac{1}{t}</script></html>"
      ],
      "text/latex": [
       "$$\\newcommand{\\Bold}[1]{\\mathbf{#1}}-e^{\\left(-y\\left(t\\right)\\right)} = C - \\frac{1}{t}$$"
      ],
      "text/plain": [
       "-e^(-y(t)) == _C - 1/t"
      ]
     },
     "execution_count": 24,
     "metadata": {},
     "output_type": "execute_result"
    }
   ],
   "source": [
    "eq = desolve(ediff,y)\n",
    "eq"
   ]
  },
  {
   "cell_type": "code",
   "execution_count": 25,
   "id": "f9cc84a1-cf03-4571-83b6-de2ff0c58214",
   "metadata": {},
   "outputs": [
    {
     "data": {
      "text/html": [
       "<html><script type=\"math/tex; mode=display\">\\newcommand{\\Bold}[1]{\\mathbf{#1}}y\\left(t\\right) = \\log\\left(-\\frac{t}{C t - 1}\\right)</script></html>"
      ],
      "text/latex": [
       "$$\\newcommand{\\Bold}[1]{\\mathbf{#1}}y\\left(t\\right) = \\log\\left(-\\frac{t}{C t - 1}\\right)$$"
      ],
      "text/plain": [
       "y(t) == log(-t/(_C*t - 1))"
      ]
     },
     "execution_count": 25,
     "metadata": {},
     "output_type": "execute_result"
    }
   ],
   "source": [
    "sol = solve(eq,y)[0]\n",
    "sol"
   ]
  },
  {
   "cell_type": "code",
   "execution_count": 26,
   "id": "8ebd4d82-67a9-4a1b-ab0f-dd33c9209e51",
   "metadata": {},
   "outputs": [
    {
     "data": {
      "text/html": [
       "<html><script type=\"math/tex; mode=display\">\\newcommand{\\Bold}[1]{\\mathbf{#1}}\\frac{\\partial}{\\partial t}y\\left(t\\right) + 1 = e^{\\left(t + y\\left(t\\right)\\right)}</script></html>"
      ],
      "text/latex": [
       "$$\\newcommand{\\Bold}[1]{\\mathbf{#1}}\\frac{\\partial}{\\partial t}y\\left(t\\right) + 1 = e^{\\left(t + y\\left(t\\right)\\right)}$$"
      ],
      "text/plain": [
       "diff(y(t), t) + 1 == e^(t + y(t))"
      ]
     },
     "execution_count": 26,
     "metadata": {},
     "output_type": "execute_result"
    }
   ],
   "source": [
    "ediff = dy+1 == exp(t)*exp(y)\n",
    "ediff"
   ]
  },
  {
   "cell_type": "code",
   "execution_count": 27,
   "id": "a4f7bbaf-4a49-4544-8b2a-c4ccb99149bc",
   "metadata": {},
   "outputs": [
    {
     "data": {
      "text/html": [
       "<html><script type=\"math/tex; mode=display\">\\newcommand{\\Bold}[1]{\\mathbf{#1}}y\\left(t\\right) = -t + \\log\\left(t + 1\\right)</script></html>"
      ],
      "text/latex": [
       "$$\\newcommand{\\Bold}[1]{\\mathbf{#1}}y\\left(t\\right) = -t + \\log\\left(t + 1\\right)$$"
      ],
      "text/plain": [
       "y(t) == -t + log(t + 1)"
      ]
     },
     "execution_count": 27,
     "metadata": {},
     "output_type": "execute_result"
    }
   ],
   "source": [
    "sol = desolve(ediff,y, contrib_ode=true)[0][1]\n",
    "sol"
   ]
  },
  {
   "cell_type": "markdown",
   "id": "38872b5c-3e2b-4981-a7cf-e674b389f19a",
   "metadata": {},
   "source": [
    "## Exercice 6"
   ]
  },
  {
   "cell_type": "code",
   "execution_count": 34,
   "id": "9c68d9aa-2b87-4488-86e1-1c6bbc5a35be",
   "metadata": {},
   "outputs": [
    {
     "data": {
      "text/html": [
       "<html><script type=\"math/tex; mode=display\">\\newcommand{\\Bold}[1]{\\mathbf{#1}}\\left(\\left(w\\left(t\\right),\\,y\\left(t\\right),\\,z\\left(t\\right)\\right), \\left(\\frac{\\partial}{\\partial t}w\\left(t\\right),\\,\\frac{\\partial}{\\partial t}y\\left(t\\right),\\,\\frac{\\partial}{\\partial t}z\\left(t\\right)\\right)\\right)</script></html>"
      ],
      "text/latex": [
       "$$\\newcommand{\\Bold}[1]{\\mathbf{#1}}\\left(\\left(w\\left(t\\right),\\,y\\left(t\\right),\\,z\\left(t\\right)\\right), \\left(\\frac{\\partial}{\\partial t}w\\left(t\\right),\\,\\frac{\\partial}{\\partial t}y\\left(t\\right),\\,\\frac{\\partial}{\\partial t}z\\left(t\\right)\\right)\\right)$$"
      ],
      "text/plain": [
       "((w(t), y(t), z(t)), (diff(w(t), t), diff(y(t), t), diff(z(t), t)))"
      ]
     },
     "execution_count": 34,
     "metadata": {},
     "output_type": "execute_result"
    }
   ],
   "source": [
    "w = function('w')(t)\n",
    "z = function('z')(t)\n",
    "\n",
    "Y = vector([w,y,z])\n",
    "dY = diff(Y, t)\n",
    "Y, dY"
   ]
  },
  {
   "cell_type": "code",
   "execution_count": 36,
   "id": "e3bfb0d3-990f-4278-965b-1be1afc975fa",
   "metadata": {},
   "outputs": [
    {
     "data": {
      "text/html": [
       "<html><script type=\"math/tex; mode=display\">\\newcommand{\\Bold}[1]{\\mathbf{#1}}\\left[-4 \\, w\\left(t\\right) + \\frac{\\partial}{\\partial t}w\\left(t\\right), -2 \\, w\\left(t\\right) - y\\left(t\\right) - 3 \\, z\\left(t\\right) + \\frac{\\partial}{\\partial t}y\\left(t\\right), -5 \\, w\\left(t\\right) - 4 \\, z\\left(t\\right) + \\frac{\\partial}{\\partial t}z\\left(t\\right)\\right]</script></html>"
      ],
      "text/latex": [
       "$$\\newcommand{\\Bold}[1]{\\mathbf{#1}}\\left[-4 \\, w\\left(t\\right) + \\frac{\\partial}{\\partial t}w\\left(t\\right), -2 \\, w\\left(t\\right) - y\\left(t\\right) - 3 \\, z\\left(t\\right) + \\frac{\\partial}{\\partial t}y\\left(t\\right), -5 \\, w\\left(t\\right) - 4 \\, z\\left(t\\right) + \\frac{\\partial}{\\partial t}z\\left(t\\right)\\right]$$"
      ],
      "text/plain": [
       "[-4*w(t) + diff(w(t), t),\n",
       " -2*w(t) - y(t) - 3*z(t) + diff(y(t), t),\n",
       " -5*w(t) - 4*z(t) + diff(z(t), t)]"
      ]
     },
     "execution_count": 36,
     "metadata": {},
     "output_type": "execute_result"
    }
   ],
   "source": [
    "A = Matrix([[4,0,0], [2,1,3], [5,0,4]])\n",
    "system = [dY[i] - (A*Y)[i] for i in range(3)]\n",
    "system"
   ]
  },
  {
   "cell_type": "code",
   "execution_count": 38,
   "id": "3d52dc9c-73bf-4578-a3eb-c5718a8af152",
   "metadata": {},
   "outputs": [
    {
     "data": {
      "text/html": [
       "<html><script type=\"math/tex; mode=display\">\\newcommand{\\Bold}[1]{\\mathbf{#1}}\\left[w\\left(t\\right) = e^{\\left(4 \\, t\\right)} w\\left(0\\right), y\\left(t\\right) = 5 \\, t e^{\\left(4 \\, t\\right)} w\\left(0\\right) - {\\left(w\\left(0\\right) - z\\left(0\\right)\\right)} e^{\\left(4 \\, t\\right)} + {\\left(w\\left(0\\right) + y\\left(0\\right) - z\\left(0\\right)\\right)} e^{t}, z\\left(t\\right) = 5 \\, t e^{\\left(4 \\, t\\right)} w\\left(0\\right) + e^{\\left(4 \\, t\\right)} z\\left(0\\right)\\right]</script></html>"
      ],
      "text/latex": [
       "$$\\newcommand{\\Bold}[1]{\\mathbf{#1}}\\left[w\\left(t\\right) = e^{\\left(4 \\, t\\right)} w\\left(0\\right), y\\left(t\\right) = 5 \\, t e^{\\left(4 \\, t\\right)} w\\left(0\\right) - {\\left(w\\left(0\\right) - z\\left(0\\right)\\right)} e^{\\left(4 \\, t\\right)} + {\\left(w\\left(0\\right) + y\\left(0\\right) - z\\left(0\\right)\\right)} e^{t}, z\\left(t\\right) = 5 \\, t e^{\\left(4 \\, t\\right)} w\\left(0\\right) + e^{\\left(4 \\, t\\right)} z\\left(0\\right)\\right]$$"
      ],
      "text/plain": [
       "[w(t) == e^(4*t)*w(0),\n",
       " y(t) == 5*t*e^(4*t)*w(0) - (w(0) - z(0))*e^(4*t) + (w(0) + y(0) - z(0))*e^t,\n",
       " z(t) == 5*t*e^(4*t)*w(0) + e^(4*t)*z(0)]"
      ]
     },
     "execution_count": 38,
     "metadata": {},
     "output_type": "execute_result"
    }
   ],
   "source": [
    "desolve_system(system, Y)"
   ]
  },
  {
   "cell_type": "code",
   "execution_count": null,
   "id": "c0a9ebac-7f99-463e-8b42-809370582dcc",
   "metadata": {},
   "outputs": [],
   "source": []
  }
 ],
 "metadata": {
  "kernelspec": {
   "display_name": "SageMath 9.5",
   "language": "sage",
   "name": "sagemath"
  },
  "language_info": {
   "codemirror_mode": {
    "name": "ipython",
    "version": 3
   },
   "file_extension": ".py",
   "mimetype": "text/x-python",
   "name": "python",
   "nbconvert_exporter": "python",
   "pygments_lexer": "ipython3",
   "version": "3.10.12"
  }
 },
 "nbformat": 4,
 "nbformat_minor": 5
}
