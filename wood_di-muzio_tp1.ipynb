{
 "cells": [
  {
   "cell_type": "code",
   "execution_count": 6,
   "id": "b3ac93a6-db79-4296-b0e5-f0ccd936e2e5",
   "metadata": {},
   "outputs": [],
   "source": [
    "%display plain"
   ]
  },
  {
   "cell_type": "markdown",
   "id": "994e4bfa-a997-408a-a279-ace4f6289d89",
   "metadata": {},
   "source": [
    "# Traveaux pratiques de Math603\n",
    "Archie WOOD, Pablo DI MUZIO"
   ]
  },
  {
   "cell_type": "markdown",
   "id": "040fa7ea-7192-4275-9853-4d72989a01fb",
   "metadata": {},
   "source": [
    "Pour résoudre les équations, on commence par fixer les variables et les fonctions que l'on va utiliser dans la suite du tp."
   ]
  },
  {
   "cell_type": "code",
   "execution_count": 3,
   "id": "fcb83bf5-606c-42c6-af95-3f47d7159001",
   "metadata": {},
   "outputs": [],
   "source": [
    "t=var('t')\n",
    "y=function('y')(t)\n",
    "dy=diff(y,t)"
   ]
  },
  {
   "cell_type": "code",
   "execution_count": 4,
   "id": "1ebf4b4d-db13-4b1b-9622-c5f41747d3a7",
   "metadata": {},
   "outputs": [],
   "source": [
    "def make_fun(C,expr): \n",
    "    s(t) = expr.substitute(expr.variables()[0] == C)\n",
    "    return s\n",
    "\n",
    "def c_plot(expr,C,interval,cl='blue'):\n",
    "    s = make_fun(C,expr)\n",
    "    return plot(s,interval,color=cl,legend_label=r'$C = {0}$'.format(C))"
   ]
  },
  {
   "cell_type": "markdown",
   "id": "36d62a93-445b-411e-986a-877f7fcd730d",
   "metadata": {},
   "source": [
    "Désormais, on peut utiliser les variables `t,y,dy` pour désigner la variable, la fonction et sa dérivée"
   ]
  },
  {
   "cell_type": "markdown",
   "id": "76b8794d-f1a2-4266-92a7-f8d9346962a3",
   "metadata": {},
   "source": [
    "## Exercice 1"
   ]
  },
  {
   "cell_type": "markdown",
   "id": "1717363b-b393-487f-b867-3679c0fa9bf4",
   "metadata": {},
   "source": [
    "Les solutions de $y'-4y=3$ sont de la forme"
   ]
  },
  {
   "cell_type": "code",
   "execution_count": 5,
   "id": "486796db-ca04-4d7b-b162-f661feb0fd41",
   "metadata": {},
   "outputs": [
    {
     "data": {
      "text/html": [
       "<html><script type=\"math/tex; mode=display\">\\newcommand{\\Bold}[1]{\\mathbf{#1}}\\frac{1}{4} \\, {\\left(4 \\, C - 3 \\, e^{\\left(-4 \\, t\\right)}\\right)} e^{\\left(4 \\, t\\right)}</script></html>"
      ],
      "text/latex": [
       "$$\\newcommand{\\Bold}[1]{\\mathbf{#1}}\\frac{1}{4} \\, {\\left(4 \\, C - 3 \\, e^{\\left(-4 \\, t\\right)}\\right)} e^{\\left(4 \\, t\\right)}$$"
      ],
      "text/plain": [
       "1/4*(4*_C - 3*e^(-4*t))*e^(4*t)"
      ]
     },
     "execution_count": 5,
     "metadata": {},
     "output_type": "execute_result"
    }
   ],
   "source": [
    "desolve(dy-4*y==3,y)"
   ]
  },
  {
   "cell_type": "markdown",
   "id": "35633ca8-e8e0-4a0f-9cb1-d0294838884a",
   "metadata": {},
   "source": [
    "Les solutions de $y'+y=\\sin(t)$ sont de la forme"
   ]
  },
  {
   "cell_type": "code",
   "execution_count": 5,
   "id": "ed321622-d4e5-47c2-9d8b-1f4ae0806c3d",
   "metadata": {},
   "outputs": [
    {
     "data": {
      "text/plain": [
       "-1/2*((cos(t) - sin(t))*e^t - 2*_C)*e^(-t)"
      ]
     },
     "execution_count": 5,
     "metadata": {},
     "output_type": "execute_result"
    }
   ],
   "source": [
    "desolve(dy+y==sin(t),y)"
   ]
  },
  {
   "cell_type": "markdown",
   "id": "26bc60a7-6062-460c-b307-d54151db8e09",
   "metadata": {},
   "source": [
    "Les solutions de $y'+y=(t^2+2x+2)e^t$ sont de la forme"
   ]
  },
  {
   "cell_type": "code",
   "execution_count": 6,
   "id": "89566163-cdce-4dd5-be09-868304d5e962",
   "metadata": {},
   "outputs": [
    {
     "data": {
      "text/plain": [
       "1/4*((2*t^2 - 2*t + 1)*e^(2*t) + 2*(2*t - 1)*e^(2*t) + 4*_C + 4*e^(2*t))*e^(-t)"
      ]
     },
     "execution_count": 6,
     "metadata": {},
     "output_type": "execute_result"
    }
   ],
   "source": [
    "desolve(dy+y==(t**2+2*t+2)*exp(t), y)"
   ]
  },
  {
   "cell_type": "markdown",
   "id": "67fe3139-3bef-4617-bd38-998810739f6f",
   "metadata": {},
   "source": [
    "Les solutions de $y'+y=\\cos(t)e^{-t}$ sont de la forme"
   ]
  },
  {
   "cell_type": "code",
   "execution_count": 7,
   "id": "98176d77-3bfb-45be-bd77-3fcd54ebc585",
   "metadata": {},
   "outputs": [
    {
     "data": {
      "text/plain": [
       "(_C + sin(t))*e^(-t)"
      ]
     },
     "execution_count": 7,
     "metadata": {},
     "output_type": "execute_result"
    }
   ],
   "source": [
    "desolve(dy+y==cos(t)*exp(-t), y)"
   ]
  },
  {
   "cell_type": "markdown",
   "id": "b53832b2-d8bc-4e80-b135-0086d5fcff6f",
   "metadata": {},
   "source": [
    "Les solutions de $y'+y=\\dfrac{1}{1+e^t}$ sont de la forme"
   ]
  },
  {
   "cell_type": "code",
   "execution_count": 8,
   "id": "2c8b7953-0ea8-451a-8608-670eb3c5d9db",
   "metadata": {},
   "outputs": [
    {
     "data": {
      "text/plain": [
       "(_C + log(e^t + 1))*e^(-t)"
      ]
     },
     "execution_count": 8,
     "metadata": {},
     "output_type": "execute_result"
    }
   ],
   "source": [
    "desolve(dy+y==1/(1+exp(t)),y)"
   ]
  },
  {
   "cell_type": "markdown",
   "id": "8e7878aa-6446-43e3-ae4a-6134a3aaad02",
   "metadata": {},
   "source": [
    "## Exercice 2"
   ]
  },
  {
   "cell_type": "markdown",
   "id": "3513593b-04a3-477d-a206-eaefd142d56b",
   "metadata": {},
   "source": [
    "Les solutions de $(1+t^2)y'+2ty=e^t+t$ sont de la forme"
   ]
  },
  {
   "cell_type": "code",
   "execution_count": 9,
   "id": "f3f1bde1-e816-467e-b058-88c0aae9de64",
   "metadata": {},
   "outputs": [
    {
     "data": {
      "text/plain": [
       "1/2*(t^2 + 2*_C + 2*e^t)/(t^2 + 1)"
      ]
     },
     "execution_count": 9,
     "metadata": {},
     "output_type": "execute_result"
    }
   ],
   "source": [
    "desolve( (1+t**2)*dy + 2*t*y == exp(t) + t, y)"
   ]
  },
  {
   "cell_type": "markdown",
   "id": "16edae52-e123-407b-b17e-2797b43024bd",
   "metadata": {},
   "source": [
    "Les solutions de $y'-\\dfrac{2}{t+1}y=(t+1)^2$ sont de la forme"
   ]
  },
  {
   "cell_type": "code",
   "execution_count": 10,
   "id": "ec56e7a7-7bbe-4e6f-86b8-732a26eab45c",
   "metadata": {},
   "outputs": [
    {
     "data": {
      "text/plain": [
       "(_C + t)*(t + 1)^2"
      ]
     },
     "execution_count": 10,
     "metadata": {},
     "output_type": "execute_result"
    }
   ],
   "source": [
    "desolve( dy - 2/(t+1)*y == (t+1)^2, y)"
   ]
  },
  {
   "cell_type": "markdown",
   "id": "0a176f65-4f1f-472e-9bb0-c28e6566e5a7",
   "metadata": {},
   "source": [
    "Les solutions de $t^2y'-(1-t)y=1$ sont de la forme"
   ]
  },
  {
   "cell_type": "code",
   "execution_count": 11,
   "id": "8b1c3be3-ac7f-42bb-b9a9-4a8a906415c7",
   "metadata": {},
   "outputs": [
    {
     "data": {
      "text/plain": [
       "(_C + gamma(2, 1/t))*t*e^(1/t)"
      ]
     },
     "execution_count": 11,
     "metadata": {},
     "output_type": "execute_result"
    }
   ],
   "source": [
    "desolve( t**2*dy + (1-t)*y == 1, y)"
   ]
  },
  {
   "cell_type": "markdown",
   "id": "37982e44-9679-4921-b800-f7ac6d558d46",
   "metadata": {},
   "source": [
    "Les solutions de $ty'-y = \\frac{2t+1}{t^2+1}$ sont de la forme"
   ]
  },
  {
   "cell_type": "code",
   "execution_count": 12,
   "id": "d750da02-1ee7-47a6-ae53-58f53fe2082e",
   "metadata": {},
   "outputs": [
    {
     "data": {
      "text/plain": [
       "(_C - 1/t - arctan(t) - log(t^2 + 1) + 2*log(t))*t"
      ]
     },
     "execution_count": 12,
     "metadata": {},
     "output_type": "execute_result"
    }
   ],
   "source": [
    "desolve( t*dy - y == (2*t+1)/(t^2+1), y)"
   ]
  },
  {
   "cell_type": "markdown",
   "id": "fecc6e6d-b9a7-4444-a36e-ec64482d14ba",
   "metadata": {},
   "source": [
    "Les solutions de $(t+1)y'+ y = (t+1)\\sin(t)$ sont de la forme"
   ]
  },
  {
   "cell_type": "code",
   "execution_count": 13,
   "id": "21f8ba1e-5208-4da7-8ebd-fe7ddc72215f",
   "metadata": {},
   "outputs": [
    {
     "data": {
      "text/plain": [
       "-(t*cos(t) - _C + cos(t) - sin(t))/(t + 1)"
      ]
     },
     "execution_count": 13,
     "metadata": {},
     "output_type": "execute_result"
    }
   ],
   "source": [
    "desolve( (t+1)*dy+y == (t+1)*sin(t) , y)"
   ]
  },
  {
   "cell_type": "markdown",
   "id": "c40c3d3d-560f-464a-b14d-96beba2a269c",
   "metadata": {},
   "source": [
    "## Exercice 3"
   ]
  },
  {
   "cell_type": "markdown",
   "id": "103799f0-3bce-44b2-b1f0-0b7a59375c3e",
   "metadata": {},
   "source": [
    "Les solutions de $y'+\\dfrac{y}{2} = \\dfrac{(t-1)y^3}{2}$ sont de la forme"
   ]
  },
  {
   "cell_type": "code",
   "execution_count": 14,
   "id": "be09deda-0d1e-448c-8631-4dce520777fd",
   "metadata": {},
   "outputs": [
    {
     "data": {
      "text/plain": [
       "e^(-1/2*t)/sqrt((t + 1)*e^(-t) + _C - e^(-t))"
      ]
     },
     "execution_count": 14,
     "metadata": {},
     "output_type": "execute_result"
    }
   ],
   "source": [
    "desolve( dy + 1/2*y == 1/2*(t-1)*y^3 , y)"
   ]
  },
  {
   "cell_type": "markdown",
   "id": "63b474de-60d4-438c-b0e2-a126baa7fd50",
   "metadata": {},
   "source": [
    "Les solutions de $ty'+y -ty^3= 0$ sont de la forme"
   ]
  },
  {
   "cell_type": "code",
   "execution_count": 15,
   "id": "71e4b16c-6512-4358-8e24-e6bac48469c4",
   "metadata": {},
   "outputs": [
    {
     "data": {
      "text/plain": [
       "1/(sqrt(_C + 2/t)*t)"
      ]
     },
     "execution_count": 15,
     "metadata": {},
     "output_type": "execute_result"
    }
   ],
   "source": [
    "desolve( t*dy + y - t*y^3 == 0 , y)"
   ]
  },
  {
   "cell_type": "markdown",
   "id": "6525d2dc-0f72-483f-a042-091fd1d69b43",
   "metadata": {},
   "source": [
    "## Exercice 4"
   ]
  },
  {
   "cell_type": "code",
   "execution_count": 86,
   "id": "2837cb6d-c4f2-4d23-b9cc-f346c3d72d5c",
   "metadata": {},
   "outputs": [],
   "source": [
    "ediff = t^2*(diff(y,t) + y^2) == t*y - 1"
   ]
  },
  {
   "cell_type": "markdown",
   "id": "9b5970dc-0c49-4821-bc5e-6e0ebafb3da4",
   "metadata": {},
   "source": [
    "La solution analytique sous forme implicite de $t^2(y'+y^2)=ty - 1$ est:"
   ]
  },
  {
   "cell_type": "code",
   "execution_count": 17,
   "id": "0a376b3c-5bef-49b0-84b3-b47272152e84",
   "metadata": {},
   "outputs": [
    {
     "data": {
      "text/plain": [
       "t == _C*e^(1/(t*y(t) - 1))"
      ]
     },
     "execution_count": 17,
     "metadata": {},
     "output_type": "execute_result"
    }
   ],
   "source": [
    "eq = desolve(ediff, y)\n",
    "eq"
   ]
  },
  {
   "cell_type": "markdown",
   "id": "3f983172-151c-4519-816f-9ddf9800f4e4",
   "metadata": {},
   "source": [
    "On en déduit donc y:"
   ]
  },
  {
   "cell_type": "code",
   "execution_count": 18,
   "id": "0f91ed74-2184-4be3-b13b-b58fb375318b",
   "metadata": {},
   "outputs": [
    {
     "data": {
      "text/plain": [
       "y(t) == (log(t/_C) + 1)/(t*log(t/_C))"
      ]
     },
     "execution_count": 18,
     "metadata": {},
     "output_type": "execute_result"
    }
   ],
   "source": [
    "solve(eq,y)[0]"
   ]
  },
  {
   "cell_type": "markdown",
   "id": "ecfb977f-0bbc-47a0-ad68-8b0430b348bd",
   "metadata": {},
   "source": [
    "Les solutions de $(1-t^3)y' + t^2y + y^2 - 2t = 0$ sont de la forme:"
   ]
  },
  {
   "cell_type": "code",
   "execution_count": 104,
   "id": "25b956e2-10e6-41e1-bb01-af725de2d934",
   "metadata": {},
   "outputs": [],
   "source": [
    "ediff = (1-t**3)*dy + t**2*y + y**2 - 2*t == 0"
   ]
  },
  {
   "cell_type": "code",
   "execution_count": 105,
   "id": "500a648e-a632-4726-bf94-d228c7ba9579",
   "metadata": {},
   "outputs": [
    {
     "data": {
      "text/plain": [
       "y(t) == (t^2 + _C)/(_C*t + 1)"
      ]
     },
     "execution_count": 105,
     "metadata": {},
     "output_type": "execute_result"
    }
   ],
   "source": [
    "sol = desolve(ediff, y, contrib_ode=true)[0]\n",
    "sol.full_simplify()"
   ]
  },
  {
   "cell_type": "markdown",
   "id": "a481ce18-1e1b-4dc0-9dd7-9ff6bb4c74a2",
   "metadata": {},
   "source": [
    "## Exercice 5"
   ]
  },
  {
   "cell_type": "markdown",
   "id": "9bd87588-c3ec-48e4-80d5-3a557bcd5a04",
   "metadata": {},
   "source": [
    "Les solutions de $t^2y' = \\exp(y)$ sont de la forme"
   ]
  },
  {
   "cell_type": "code",
   "execution_count": 106,
   "id": "4970cab9-5f7e-416e-8970-44931f3cc535",
   "metadata": {},
   "outputs": [],
   "source": [
    "ediff = t**2*dy == exp(y)"
   ]
  },
  {
   "cell_type": "code",
   "execution_count": 107,
   "id": "92da12f2-e77e-4ce5-b71f-350c17e3b943",
   "metadata": {},
   "outputs": [],
   "source": [
    "eq = desolve(ediff,y)"
   ]
  },
  {
   "cell_type": "code",
   "execution_count": 23,
   "id": "f9cc84a1-cf03-4571-83b6-de2ff0c58214",
   "metadata": {},
   "outputs": [
    {
     "data": {
      "text/plain": [
       "y(t) == log(-t/(_C*t - 1))"
      ]
     },
     "execution_count": 23,
     "metadata": {},
     "output_type": "execute_result"
    }
   ],
   "source": [
    "sol = solve(eq,y)[0]\n",
    "sol"
   ]
  },
  {
   "cell_type": "markdown",
   "id": "43ebfd57-c595-4867-9989-7e7e051eb50f",
   "metadata": {},
   "source": [
    "Les solutions de $y'+1 = \\exp(t)\\exp(y)$ sont de la forme"
   ]
  },
  {
   "cell_type": "code",
   "execution_count": 24,
   "id": "8ebd4d82-67a9-4a1b-ab0f-dd33c9209e51",
   "metadata": {},
   "outputs": [
    {
     "data": {
      "text/plain": [
       "diff(y(t), t) + 1 == e^(t + y(t))"
      ]
     },
     "execution_count": 24,
     "metadata": {},
     "output_type": "execute_result"
    }
   ],
   "source": [
    "ediff = dy+1 == exp(t)*exp(y)"
   ]
  },
  {
   "cell_type": "code",
   "execution_count": 25,
   "id": "a4f7bbaf-4a49-4544-8b2a-c4ccb99149bc",
   "metadata": {},
   "outputs": [
    {
     "data": {
      "text/plain": [
       "y(t) == -t + log(t + 1)"
      ]
     },
     "execution_count": 25,
     "metadata": {},
     "output_type": "execute_result"
    }
   ],
   "source": [
    "sol = desolve(ediff,y, contrib_ode=true)[0][1]\n",
    "sol"
   ]
  },
  {
   "cell_type": "markdown",
   "id": "38872b5c-3e2b-4981-a7cf-e674b389f19a",
   "metadata": {},
   "source": [
    "## Exercice 6"
   ]
  },
  {
   "cell_type": "code",
   "execution_count": 9,
   "id": "9c68d9aa-2b87-4488-86e1-1c6bbc5a35be",
   "metadata": {},
   "outputs": [
    {
     "data": {
      "text/plain": [
       "((w(t), y(t), z(t)), (diff(w(t), t), diff(y(t), t), diff(z(t), t)))"
      ]
     },
     "execution_count": 9,
     "metadata": {},
     "output_type": "execute_result"
    }
   ],
   "source": [
    "w = function('w')(t)\n",
    "z = function('z')(t)\n",
    "\n",
    "Y = vector([w,y,z])\n",
    "dY = diff(Y, t)\n",
    "Y, dY"
   ]
  },
  {
   "cell_type": "markdown",
   "id": "bc192811-d7de-41ad-9ce6-6440de3459b6",
   "metadata": {},
   "source": [
    "#### Exercice 1:"
   ]
  },
  {
   "cell_type": "code",
   "execution_count": 27,
   "id": "e3bfb0d3-990f-4278-965b-1be1afc975fa",
   "metadata": {},
   "outputs": [
    {
     "data": {
      "text/plain": [
       "[-4*w(t) + diff(w(t), t),\n",
       " -2*w(t) - y(t) - 3*z(t) + diff(y(t), t),\n",
       " -5*w(t) - 4*z(t) + diff(z(t), t)]"
      ]
     },
     "execution_count": 27,
     "metadata": {},
     "output_type": "execute_result"
    }
   ],
   "source": [
    "A = Matrix([[4,0,0], [2,1,3], [5,0,4]])\n",
    "system = [dY[i] - (A*Y)[i] for i in range(3)]\n",
    "system"
   ]
  },
  {
   "cell_type": "markdown",
   "id": "5658fa1c-b52d-42d9-8950-4843f0cb4c91",
   "metadata": {},
   "source": [
    "Un systeme de solutions de ce systeme est:"
   ]
  },
  {
   "cell_type": "code",
   "execution_count": 28,
   "id": "3d52dc9c-73bf-4578-a3eb-c5718a8af152",
   "metadata": {},
   "outputs": [
    {
     "data": {
      "text/plain": [
       "[w(t) == e^(4*t)*w(0),\n",
       " y(t) == 5*t*e^(4*t)*w(0) - (w(0) - z(0))*e^(4*t) + (w(0) + y(0) - z(0))*e^t,\n",
       " z(t) == 5*t*e^(4*t)*w(0) + e^(4*t)*z(0)]"
      ]
     },
     "execution_count": 28,
     "metadata": {},
     "output_type": "execute_result"
    }
   ],
   "source": [
    "desolve_system(system, Y)"
   ]
  },
  {
   "cell_type": "markdown",
   "id": "8d5bd394-0d39-4a08-a533-abe2dcb04106",
   "metadata": {},
   "source": [
    "#### Exercice 2"
   ]
  },
  {
   "cell_type": "code",
   "execution_count": 29,
   "id": "c0a9ebac-7f99-463e-8b42-809370582dcc",
   "metadata": {},
   "outputs": [
    {
     "data": {
      "text/plain": [
       "[y(t) == cos(t)*y(0) - sin(t)*z(0), z(t) == sin(t)*y(0) + cos(t)*z(0)]"
      ]
     },
     "execution_count": 29,
     "metadata": {},
     "output_type": "execute_result"
    }
   ],
   "source": [
    "A = Matrix([[0,-1],[1,0]])\n",
    "Y = vector([y,z])\n",
    "dY = diff(Y, t)\n",
    "system = [dY[i] - (A*Y)[i] for i in range(2)]\n",
    "desolve_system(system, Y)"
   ]
  },
  {
   "cell_type": "code",
   "execution_count": 30,
   "id": "e1cf6566-dd9a-49d6-991d-a45ad6b3104f",
   "metadata": {},
   "outputs": [
    {
     "data": {
      "text/plain": [
       "[w(t) == 1/2*(2*w(0) + 2*y(0) - z(0))*cos(t) - 1/2*(2*y(0) - z(0))*e^t + 1/2*(4*y(0) - 3*z(0))*sin(t),\n",
       " y(t) == -1/2*(4*y(0) - 3*z(0))*cos(t) + 3/2*(2*y(0) - z(0))*e^t + 1/2*(2*w(0) + 2*y(0) - z(0))*sin(t),\n",
       " z(t) == -(4*y(0) - 3*z(0))*cos(t) + 2*(2*y(0) - z(0))*e^t + (2*w(0) + 2*y(0) - z(0))*sin(t)]"
      ]
     },
     "execution_count": 30,
     "metadata": {},
     "output_type": "execute_result"
    }
   ],
   "source": [
    "A = Matrix([[0,1, -1],[1,4, -2], [2,6, -3]])\n",
    "Y = vector([w,y,z])\n",
    "dY = diff(Y, t)\n",
    "system = [dY[i] - (A*Y)[i] for i in range(3)]\n",
    "desolve_system(system, Y)"
   ]
  },
  {
   "cell_type": "markdown",
   "id": "b745af98-5d36-41f4-b8bc-ef184a6e8ce0",
   "metadata": {},
   "source": [
    "#### Exercice 5:"
   ]
  },
  {
   "cell_type": "code",
   "execution_count": 116,
   "id": "e8c09e2c-60fd-44bc-a7f5-de565ade6cdc",
   "metadata": {},
   "outputs": [
    {
     "name": "stdout",
     "output_type": "stream",
     "text": [
      "[1 0]\n",
      "[1 1],\n",
      "\n",
      " [1 1]\n",
      "[0 1],\n",
      "\n",
      " [   1/2*(e^(2*I) + 1)*e^(-I) -1/2*I*(e^(2*I) - 1)*e^(-I)]\n",
      "[ 1/2*I*(e^(2*I) - 1)*e^(-I)    1/2*(e^(2*I) + 1)*e^(-I)],\n",
      "\n",
      " [1/2*(e^2 + 1)*e^(-1) 1/2*(e^2 - 1)*e^(-1)]\n",
      "[1/2*(e^2 - 1)*e^(-1) 1/2*(e^2 + 1)*e^(-1)]\n",
      "\n",
      "\n"
     ]
    }
   ],
   "source": [
    "A = Matrix([[0,0],[1,0]])\n",
    "B = Matrix([[0,1],[0,0]])\n",
    "V = Matrix([[0,1],[-1,0]])\n",
    "C = A + B\n",
    "print(f'{exp(A)},\\n\\n {exp(B)},\\n\\n {exp(V)},\\n\\n {exp(C)}\\n\\n')"
   ]
  },
  {
   "cell_type": "code",
   "execution_count": 118,
   "id": "8e1f8722-0c70-4905-93f5-7bb7b6bd5d18",
   "metadata": {},
   "outputs": [
    {
     "data": {
      "text/plain": [
       "False"
      ]
     },
     "execution_count": 118,
     "metadata": {},
     "output_type": "execute_result"
    }
   ],
   "source": [
    "exp(A)*exp(B) == exp(C)"
   ]
  },
  {
   "cell_type": "markdown",
   "id": "a0528bab-60eb-483a-9560-8ad56da1d105",
   "metadata": {},
   "source": [
    "On n'a pas exp(A)exp(B) = exp(C)"
   ]
  },
  {
   "cell_type": "markdown",
   "id": "68bd1de5-a216-4f1d-b955-393b980cd188",
   "metadata": {},
   "source": [
    "#### Exercice 6:"
   ]
  },
  {
   "cell_type": "markdown",
   "id": "fcbbf1c5-27d0-426c-81a1-2c340980e899",
   "metadata": {},
   "source": [
    "#### Exercice 7:"
   ]
  },
  {
   "cell_type": "markdown",
   "id": "f755b9a8-be0c-40e2-8c34-8791f5cdb666",
   "metadata": {},
   "source": [
    "## Exercice 7:"
   ]
  },
  {
   "cell_type": "code",
   "execution_count": 18,
   "id": "b61c3b8f-e2db-41e8-b7c3-0a6fe7219419",
   "metadata": {},
   "outputs": [
    {
     "data": {
      "text/plain": [
       "[y(t) == (4*y(0) + 3*z(0))*e^(3*t) - 3*(y(0) + z(0))*e^(2*t),\n",
       " z(t) == -(4*y(0) + 3*z(0))*e^(3*t) + 4*(y(0) + z(0))*e^(2*t)]"
      ]
     },
     "execution_count": 18,
     "metadata": {},
     "output_type": "execute_result"
    }
   ],
   "source": [
    "A = Matrix([[6,3],[-4,-1]])\n",
    "Y = vector([y,z])\n",
    "dY = diff(Y, t)\n",
    "system = [dY[i] - (A*Y)[i] == 0 for i in range(2)]\n",
    "desolve_system(system, Y)"
   ]
  },
  {
   "cell_type": "markdown",
   "id": "7f34e2a1-c910-4550-9bf2-8ed03241a603",
   "metadata": {},
   "source": [
    "## Exercice 8:"
   ]
  },
  {
   "cell_type": "code",
   "execution_count": 24,
   "id": "d28e594a-a607-47cc-889d-6844fb4534bd",
   "metadata": {},
   "outputs": [
    {
     "data": {
      "text/plain": [
       "[x(t) == 1/2*(x(0) + z(0))*e^(6*t) + 1/2*(x(0) - z(0))*e^(2*t),\n",
       " y(t) == 1/2*(u(0) + y(0))*e^(6*t) - 1/2*(u(0) - y(0))*e^(2*t),\n",
       " z(t) == 1/2*(x(0) + z(0))*e^(6*t) - 1/2*(x(0) - z(0))*e^(2*t),\n",
       " u(t) == 1/2*(u(0) + y(0))*e^(6*t) + 1/2*(u(0) - y(0))*e^(2*t)]"
      ]
     },
     "execution_count": 24,
     "metadata": {},
     "output_type": "execute_result"
    }
   ],
   "source": [
    "x = function('x')(t)\n",
    "y = function('y')(t)\n",
    "z = function('z')(t)\n",
    "u = function('u')(t)\n",
    "\n",
    "X = vector([x,y,z,u])\n",
    "\n",
    "A = Matrix([\n",
    "    [4, 0, 2, 0],\n",
    "    [0, 4, 0, 2],\n",
    "    [2, 0, 4, 0],\n",
    "    [0, 2, 0, 4]\n",
    "])\n",
    "\n",
    "system = [diff(X, t)[i] - (A*X)[i] for i in range(4)]\n",
    "\n",
    "desolve_system(system, X)"
   ]
  },
  {
   "cell_type": "markdown",
   "id": "b0b3d7c0-88f0-4e80-a54d-302ade57d1f6",
   "metadata": {},
   "source": [
    "## Exercice 9:"
   ]
  },
  {
   "cell_type": "code",
   "execution_count": 83,
   "id": "e86ab9df-03ef-4266-ade6-27e4d4d2f3d7",
   "metadata": {},
   "outputs": [],
   "source": [
    "def solver(A,x):\n",
    "    u1 = function('u_1')(t)\n",
    "    u2 = function('u_2')(t)\n",
    "\n",
    "    Y =  vector([u1,u2])\n",
    "    dY = diff(Y,t)\n",
    "\n",
    "    system = [dY[i] - (A*Y)[i] for i in range(2)]\n",
    "\n",
    "    sols = desolve_system(system, Y, ics=[0] + x)\n",
    "\n",
    "    return sols\n",
    "    "
   ]
  },
  {
   "cell_type": "code",
   "execution_count": 84,
   "id": "51924216-38c2-4c51-aa06-432919da7ab7",
   "metadata": {},
   "outputs": [
    {
     "data": {
      "text/plain": [
       "[u_1(t) == 14*e^(3*t) - 12*e^(2*t), u_2(t) == -14*e^(3*t) + 16*e^(2*t)]"
      ]
     },
     "execution_count": 84,
     "metadata": {},
     "output_type": "execute_result"
    }
   ],
   "source": [
    "A = Matrix([\n",
    "    [6, 3],\n",
    "    [-4, -1]\n",
    "])\n",
    "x = [2, 2]\n",
    "solver(A,x)"
   ]
  },
  {
   "cell_type": "code",
   "execution_count": 85,
   "id": "332406be-c88c-4eb1-ac52-15e8600f4b83",
   "metadata": {},
   "outputs": [
    {
     "data": {
      "text/plain": [
       "[u_1(t) == 7*e^(3*t) - 6*e^(2*t), u_2(t) == -7*e^(3*t) + 8*e^(2*t)]"
      ]
     },
     "execution_count": 85,
     "metadata": {},
     "output_type": "execute_result"
    }
   ],
   "source": [
    "solver(A,[1,1])"
   ]
  },
  {
   "cell_type": "code",
   "execution_count": null,
   "id": "e8cfdf68-4f2b-46d6-8e75-4bd61d524447",
   "metadata": {},
   "outputs": [],
   "source": []
  }
 ],
 "metadata": {
  "kernelspec": {
   "display_name": "SageMath 9.5",
   "language": "sage",
   "name": "sagemath"
  },
  "language_info": {
   "codemirror_mode": {
    "name": "ipython",
    "version": 3
   },
   "file_extension": ".py",
   "mimetype": "text/x-python",
   "name": "python",
   "nbconvert_exporter": "python",
   "pygments_lexer": "ipython3",
   "version": "3.11.2"
  }
 },
 "nbformat": 4,
 "nbformat_minor": 5
}
